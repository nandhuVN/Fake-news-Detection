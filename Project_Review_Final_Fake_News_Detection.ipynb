{
  "cells": [
    {
      "cell_type": "code",
      "execution_count": null,
      "metadata": {
        "id": "uta4LpLKDUWS"
      },
      "outputs": [],
      "source": [
        "!pip install -q opendatasets\n",
        "import matplotlib.pyplot as plt\n",
        "import opendatasets as od\n",
        "import numpy as np\n",
        "import pandas as pd"
      ]
    },
    {
      "cell_type": "code",
      "source": [
        "od.download(\"https://www.kaggle.com/datasets/emineyetm/fake-news-detection-datasets?select=News+_dataset\")"
      ],
      "metadata": {
        "colab": {
          "base_uri": "https://localhost:8080/"
        },
        "id": "wXmTDTyvTqex",
        "outputId": "1bb39300-7d28-44d3-f8b1-b9e667eabd1c"
      },
      "execution_count": null,
      "outputs": [
        {
          "output_type": "stream",
          "name": "stdout",
          "text": [
            "Please provide your Kaggle credentials to download this dataset. Learn more: http://bit.ly/kaggle-creds\n",
            "Your Kaggle username: asamanikafalen\n",
            "Your Kaggle Key: ··········\n",
            "Downloading fake-news-detection-datasets.zip to ./fake-news-detection-datasets\n"
          ]
        },
        {
          "output_type": "stream",
          "name": "stderr",
          "text": [
            "100%|██████████| 41.0M/41.0M [00:00<00:00, 43.1MB/s]\n"
          ]
        },
        {
          "output_type": "stream",
          "name": "stdout",
          "text": [
            "\n"
          ]
        }
      ]
    },
    {
      "cell_type": "code",
      "source": [
        "df_fake=pd.read_csv(\"/content/fake-news-detection-datasets/News _dataset/Fake.csv\")\n",
        "df_true=pd.read_csv(\"/content/fake-news-detection-datasets/News _dataset/True.csv\")"
      ],
      "metadata": {
        "id": "w7lc1mWAT-Ai"
      },
      "execution_count": null,
      "outputs": []
    },
    {
      "cell_type": "code",
      "execution_count": null,
      "metadata": {
        "colab": {
          "base_uri": "https://localhost:8080/",
          "height": 206
        },
        "id": "_D2RcWe9DVAa",
        "outputId": "dc71b78a-626f-4641-9296-0dbcb114e948"
      },
      "outputs": [
        {
          "output_type": "execute_result",
          "data": {
            "text/plain": [
              "                                               title  \\\n",
              "0   Donald Trump Sends Out Embarrassing New Year’...   \n",
              "1   Drunk Bragging Trump Staffer Started Russian ...   \n",
              "2   Sheriff David Clarke Becomes An Internet Joke...   \n",
              "3   Trump Is So Obsessed He Even Has Obama’s Name...   \n",
              "4   Pope Francis Just Called Out Donald Trump Dur...   \n",
              "\n",
              "                                                text subject  \\\n",
              "0  Donald Trump just couldn t wish all Americans ...    News   \n",
              "1  House Intelligence Committee Chairman Devin Nu...    News   \n",
              "2  On Friday, it was revealed that former Milwauk...    News   \n",
              "3  On Christmas day, Donald Trump announced that ...    News   \n",
              "4  Pope Francis used his annual Christmas Day mes...    News   \n",
              "\n",
              "                date  \n",
              "0  December 31, 2017  \n",
              "1  December 31, 2017  \n",
              "2  December 30, 2017  \n",
              "3  December 29, 2017  \n",
              "4  December 25, 2017  "
            ],
            "text/html": [
              "\n",
              "  <div id=\"df-a73e08df-8d89-44d7-b8df-500dc49ae61c\" class=\"colab-df-container\">\n",
              "    <div>\n",
              "<style scoped>\n",
              "    .dataframe tbody tr th:only-of-type {\n",
              "        vertical-align: middle;\n",
              "    }\n",
              "\n",
              "    .dataframe tbody tr th {\n",
              "        vertical-align: top;\n",
              "    }\n",
              "\n",
              "    .dataframe thead th {\n",
              "        text-align: right;\n",
              "    }\n",
              "</style>\n",
              "<table border=\"1\" class=\"dataframe\">\n",
              "  <thead>\n",
              "    <tr style=\"text-align: right;\">\n",
              "      <th></th>\n",
              "      <th>title</th>\n",
              "      <th>text</th>\n",
              "      <th>subject</th>\n",
              "      <th>date</th>\n",
              "    </tr>\n",
              "  </thead>\n",
              "  <tbody>\n",
              "    <tr>\n",
              "      <th>0</th>\n",
              "      <td>Donald Trump Sends Out Embarrassing New Year’...</td>\n",
              "      <td>Donald Trump just couldn t wish all Americans ...</td>\n",
              "      <td>News</td>\n",
              "      <td>December 31, 2017</td>\n",
              "    </tr>\n",
              "    <tr>\n",
              "      <th>1</th>\n",
              "      <td>Drunk Bragging Trump Staffer Started Russian ...</td>\n",
              "      <td>House Intelligence Committee Chairman Devin Nu...</td>\n",
              "      <td>News</td>\n",
              "      <td>December 31, 2017</td>\n",
              "    </tr>\n",
              "    <tr>\n",
              "      <th>2</th>\n",
              "      <td>Sheriff David Clarke Becomes An Internet Joke...</td>\n",
              "      <td>On Friday, it was revealed that former Milwauk...</td>\n",
              "      <td>News</td>\n",
              "      <td>December 30, 2017</td>\n",
              "    </tr>\n",
              "    <tr>\n",
              "      <th>3</th>\n",
              "      <td>Trump Is So Obsessed He Even Has Obama’s Name...</td>\n",
              "      <td>On Christmas day, Donald Trump announced that ...</td>\n",
              "      <td>News</td>\n",
              "      <td>December 29, 2017</td>\n",
              "    </tr>\n",
              "    <tr>\n",
              "      <th>4</th>\n",
              "      <td>Pope Francis Just Called Out Donald Trump Dur...</td>\n",
              "      <td>Pope Francis used his annual Christmas Day mes...</td>\n",
              "      <td>News</td>\n",
              "      <td>December 25, 2017</td>\n",
              "    </tr>\n",
              "  </tbody>\n",
              "</table>\n",
              "</div>\n",
              "    <div class=\"colab-df-buttons\">\n",
              "\n",
              "  <div class=\"colab-df-container\">\n",
              "    <button class=\"colab-df-convert\" onclick=\"convertToInteractive('df-a73e08df-8d89-44d7-b8df-500dc49ae61c')\"\n",
              "            title=\"Convert this dataframe to an interactive table.\"\n",
              "            style=\"display:none;\">\n",
              "\n",
              "  <svg xmlns=\"http://www.w3.org/2000/svg\" height=\"24px\" viewBox=\"0 -960 960 960\">\n",
              "    <path d=\"M120-120v-720h720v720H120Zm60-500h600v-160H180v160Zm220 220h160v-160H400v160Zm0 220h160v-160H400v160ZM180-400h160v-160H180v160Zm440 0h160v-160H620v160ZM180-180h160v-160H180v160Zm440 0h160v-160H620v160Z\"/>\n",
              "  </svg>\n",
              "    </button>\n",
              "\n",
              "  <style>\n",
              "    .colab-df-container {\n",
              "      display:flex;\n",
              "      gap: 12px;\n",
              "    }\n",
              "\n",
              "    .colab-df-convert {\n",
              "      background-color: #E8F0FE;\n",
              "      border: none;\n",
              "      border-radius: 50%;\n",
              "      cursor: pointer;\n",
              "      display: none;\n",
              "      fill: #1967D2;\n",
              "      height: 32px;\n",
              "      padding: 0 0 0 0;\n",
              "      width: 32px;\n",
              "    }\n",
              "\n",
              "    .colab-df-convert:hover {\n",
              "      background-color: #E2EBFA;\n",
              "      box-shadow: 0px 1px 2px rgba(60, 64, 67, 0.3), 0px 1px 3px 1px rgba(60, 64, 67, 0.15);\n",
              "      fill: #174EA6;\n",
              "    }\n",
              "\n",
              "    .colab-df-buttons div {\n",
              "      margin-bottom: 4px;\n",
              "    }\n",
              "\n",
              "    [theme=dark] .colab-df-convert {\n",
              "      background-color: #3B4455;\n",
              "      fill: #D2E3FC;\n",
              "    }\n",
              "\n",
              "    [theme=dark] .colab-df-convert:hover {\n",
              "      background-color: #434B5C;\n",
              "      box-shadow: 0px 1px 3px 1px rgba(0, 0, 0, 0.15);\n",
              "      filter: drop-shadow(0px 1px 2px rgba(0, 0, 0, 0.3));\n",
              "      fill: #FFFFFF;\n",
              "    }\n",
              "  </style>\n",
              "\n",
              "    <script>\n",
              "      const buttonEl =\n",
              "        document.querySelector('#df-a73e08df-8d89-44d7-b8df-500dc49ae61c button.colab-df-convert');\n",
              "      buttonEl.style.display =\n",
              "        google.colab.kernel.accessAllowed ? 'block' : 'none';\n",
              "\n",
              "      async function convertToInteractive(key) {\n",
              "        const element = document.querySelector('#df-a73e08df-8d89-44d7-b8df-500dc49ae61c');\n",
              "        const dataTable =\n",
              "          await google.colab.kernel.invokeFunction('convertToInteractive',\n",
              "                                                    [key], {});\n",
              "        if (!dataTable) return;\n",
              "\n",
              "        const docLinkHtml = 'Like what you see? Visit the ' +\n",
              "          '<a target=\"_blank\" href=https://colab.research.google.com/notebooks/data_table.ipynb>data table notebook</a>'\n",
              "          + ' to learn more about interactive tables.';\n",
              "        element.innerHTML = '';\n",
              "        dataTable['output_type'] = 'display_data';\n",
              "        await google.colab.output.renderOutput(dataTable, element);\n",
              "        const docLink = document.createElement('div');\n",
              "        docLink.innerHTML = docLinkHtml;\n",
              "        element.appendChild(docLink);\n",
              "      }\n",
              "    </script>\n",
              "  </div>\n",
              "\n",
              "\n",
              "<div id=\"df-6089714f-614f-4767-8b09-a2c61c174c6a\">\n",
              "  <button class=\"colab-df-quickchart\" onclick=\"quickchart('df-6089714f-614f-4767-8b09-a2c61c174c6a')\"\n",
              "            title=\"Suggest charts\"\n",
              "            style=\"display:none;\">\n",
              "\n",
              "<svg xmlns=\"http://www.w3.org/2000/svg\" height=\"24px\"viewBox=\"0 0 24 24\"\n",
              "     width=\"24px\">\n",
              "    <g>\n",
              "        <path d=\"M19 3H5c-1.1 0-2 .9-2 2v14c0 1.1.9 2 2 2h14c1.1 0 2-.9 2-2V5c0-1.1-.9-2-2-2zM9 17H7v-7h2v7zm4 0h-2V7h2v10zm4 0h-2v-4h2v4z\"/>\n",
              "    </g>\n",
              "</svg>\n",
              "  </button>\n",
              "\n",
              "<style>\n",
              "  .colab-df-quickchart {\n",
              "      --bg-color: #E8F0FE;\n",
              "      --fill-color: #1967D2;\n",
              "      --hover-bg-color: #E2EBFA;\n",
              "      --hover-fill-color: #174EA6;\n",
              "      --disabled-fill-color: #AAA;\n",
              "      --disabled-bg-color: #DDD;\n",
              "  }\n",
              "\n",
              "  [theme=dark] .colab-df-quickchart {\n",
              "      --bg-color: #3B4455;\n",
              "      --fill-color: #D2E3FC;\n",
              "      --hover-bg-color: #434B5C;\n",
              "      --hover-fill-color: #FFFFFF;\n",
              "      --disabled-bg-color: #3B4455;\n",
              "      --disabled-fill-color: #666;\n",
              "  }\n",
              "\n",
              "  .colab-df-quickchart {\n",
              "    background-color: var(--bg-color);\n",
              "    border: none;\n",
              "    border-radius: 50%;\n",
              "    cursor: pointer;\n",
              "    display: none;\n",
              "    fill: var(--fill-color);\n",
              "    height: 32px;\n",
              "    padding: 0;\n",
              "    width: 32px;\n",
              "  }\n",
              "\n",
              "  .colab-df-quickchart:hover {\n",
              "    background-color: var(--hover-bg-color);\n",
              "    box-shadow: 0 1px 2px rgba(60, 64, 67, 0.3), 0 1px 3px 1px rgba(60, 64, 67, 0.15);\n",
              "    fill: var(--button-hover-fill-color);\n",
              "  }\n",
              "\n",
              "  .colab-df-quickchart-complete:disabled,\n",
              "  .colab-df-quickchart-complete:disabled:hover {\n",
              "    background-color: var(--disabled-bg-color);\n",
              "    fill: var(--disabled-fill-color);\n",
              "    box-shadow: none;\n",
              "  }\n",
              "\n",
              "  .colab-df-spinner {\n",
              "    border: 2px solid var(--fill-color);\n",
              "    border-color: transparent;\n",
              "    border-bottom-color: var(--fill-color);\n",
              "    animation:\n",
              "      spin 1s steps(1) infinite;\n",
              "  }\n",
              "\n",
              "  @keyframes spin {\n",
              "    0% {\n",
              "      border-color: transparent;\n",
              "      border-bottom-color: var(--fill-color);\n",
              "      border-left-color: var(--fill-color);\n",
              "    }\n",
              "    20% {\n",
              "      border-color: transparent;\n",
              "      border-left-color: var(--fill-color);\n",
              "      border-top-color: var(--fill-color);\n",
              "    }\n",
              "    30% {\n",
              "      border-color: transparent;\n",
              "      border-left-color: var(--fill-color);\n",
              "      border-top-color: var(--fill-color);\n",
              "      border-right-color: var(--fill-color);\n",
              "    }\n",
              "    40% {\n",
              "      border-color: transparent;\n",
              "      border-right-color: var(--fill-color);\n",
              "      border-top-color: var(--fill-color);\n",
              "    }\n",
              "    60% {\n",
              "      border-color: transparent;\n",
              "      border-right-color: var(--fill-color);\n",
              "    }\n",
              "    80% {\n",
              "      border-color: transparent;\n",
              "      border-right-color: var(--fill-color);\n",
              "      border-bottom-color: var(--fill-color);\n",
              "    }\n",
              "    90% {\n",
              "      border-color: transparent;\n",
              "      border-bottom-color: var(--fill-color);\n",
              "    }\n",
              "  }\n",
              "</style>\n",
              "\n",
              "  <script>\n",
              "    async function quickchart(key) {\n",
              "      const quickchartButtonEl =\n",
              "        document.querySelector('#' + key + ' button');\n",
              "      quickchartButtonEl.disabled = true;  // To prevent multiple clicks.\n",
              "      quickchartButtonEl.classList.add('colab-df-spinner');\n",
              "      try {\n",
              "        const charts = await google.colab.kernel.invokeFunction(\n",
              "            'suggestCharts', [key], {});\n",
              "      } catch (error) {\n",
              "        console.error('Error during call to suggestCharts:', error);\n",
              "      }\n",
              "      quickchartButtonEl.classList.remove('colab-df-spinner');\n",
              "      quickchartButtonEl.classList.add('colab-df-quickchart-complete');\n",
              "    }\n",
              "    (() => {\n",
              "      let quickchartButtonEl =\n",
              "        document.querySelector('#df-6089714f-614f-4767-8b09-a2c61c174c6a button');\n",
              "      quickchartButtonEl.style.display =\n",
              "        google.colab.kernel.accessAllowed ? 'block' : 'none';\n",
              "    })();\n",
              "  </script>\n",
              "</div>\n",
              "    </div>\n",
              "  </div>\n"
            ],
            "application/vnd.google.colaboratory.intrinsic+json": {
              "type": "dataframe",
              "variable_name": "df_fake",
              "summary": "{\n  \"name\": \"df_fake\",\n  \"rows\": 23481,\n  \"fields\": [\n    {\n      \"column\": \"title\",\n      \"properties\": {\n        \"dtype\": \"string\",\n        \"num_unique_values\": 17903,\n        \"samples\": [\n          \" Fox News Mocked Into Oblivion After This F*cking STUPID Attempt To Make Steve Bannon Look Sane (TWEETS)\",\n          \"BREAKING: FL GOV RICK SCOTT Calls for FBI Director to Resign\",\n          \" WATCH: Mike Pence\\u2019s Photo Op With Puerto Rico Survivors Just Went TERRIBLY Wrong (VIDEO)\"\n        ],\n        \"semantic_type\": \"\",\n        \"description\": \"\"\n      }\n    },\n    {\n      \"column\": \"text\",\n      \"properties\": {\n        \"dtype\": \"string\",\n        \"num_unique_values\": 17455,\n        \"samples\": [\n          \"The moral decay continues The Kapiolani Medical Center for Women and Children at the University of Hawaii is currently recruiting pregnant girls and women to participate in second-trimester abortions to measure their bleeding during the operation, with and without antihemorrhagic drugs. According to the Clinical Trials website, run by the National Institutes of Health, participants must be at least 14 years old and 18-24 weeks pregnant.The controversial study, led by Bliss Kaneshiro, MD and Kate Whitehouse, DO, will monitor bleeding during D&E abortions to determine the effects of the drug oxytocin, commonly used to minimize blood loss and decrease the risk of hemorrhage.The clinical trial, called  Effects of Oxytocin on Bleeding Outcomes during Dilation and Evacuation  began in October 2014 and is a collaboration between UH, Society of Family Planning and the University of Washington.The Society of Family Planning funds a number of similar research projects, such as experimenting with the dosage of Misoprostol, a uterine contracting agent, prior to surgical abortions at 13-18 weeks and exploring umbilical cord injections to produce fetal death prior to late-term abortions.In the UH study, researchers will carry out a  randomized, double-blinded, placebo-controlled trials,  to determine the effect of oxytocin s use on uterine bleeding, meaning that they will either provide or deny intravenous oxytocin to the women.Reports suggest that some doctors are concerned that withholding oxytocin during surgery may put patients, especially teen girls, at risk. This study is reminiscent of Nazi concentration camp experiments. I pity the poor women who are being treated like lab rats, especially those who are denied the drug to reduce hemorrhaging,  said Troy Newman, President of Operation Rescue.Dilation and evacuation abortions are surgical procedures that involve dismembering the pre-born baby with forceps, scraping the inside of the uterus with a curette to remove any residuals and finally suctioning out the womb to make sure the contents are completely removed.After the abortion, the corpse of the fetus is reassembled and examined to ensure everything was successfully removed and that the abortion was complete.The study is hoping to attract up to 166 test subjects and is expected to conclude in July 2015.Via: Breitbart News\",\n          \"CNN was quick to scoop up Corey Lewandowski after Donald Trump kicked him out of his role as campaign manager, but his first week on the job is going pretty much exactly how you would expect it to go   terribly.Not only has Lewandowski proven himself to be pretty much like a paid spokesman for Trump, but his defense of the disgraced GOP candidate isn t being received well. Earlier this week, Lewandowski revealed that he was under contract and couldn t criticize The Donald, even after being fired from the campaign. Today, Lewandowski got called out by Hillary Clinton surrogate Christine Quinn for hyping Trump up to be an expert on the Brexit decision   a suggestion that was clearly false.On Monday s edition of CNN s New Day, Lewandowski made another pathetic defense of Trump by trying to reframe the candidate s disgusting reaction to Brexit, where he mostly spoke about how much the decision would be good for his Scotland golf resort. Lewandowski s defense was: Obviously the U.S. dollar has become much stronger now against the British pound. If you re going to spend money in Europe, now would actually be a good time to go with the fall of the pound.What you have is a world view, so what you have is someone who is saying,  Let s look at this from the U.S. perspective. If you want to go and travel overseas   just from a monetary perspective   now is the right time to do that because what you re getting is more for your dollar. Quinn wasn t having it. She ripped into Lewandowski, firing back, Donald Trump is not running to be travel agent of the world, he s running to be president of the United States.  She continued: What he said wasn t a commentary on international markets, it was,  When the pound goes down, more people will come to my golf course. Donald Trump s main concern isn t the international markets, it isn t the impact that Brexit will have on hard working Americans  401Ks, it s himself. How can he make more money, how can he put more money in his bank account? Lewandowski compared the Brexit decision to Trump s rise in the GOP, and Quinn once again called him out and put him back in his place. She said: Trump touted that he saw this coming. That s ridiculous because when he was first asked about Brexit by the press, he didn t appear to know what it was. Lewandowski tried to counter by insisting that People are too smart, they are tired of being told what to do.  He then tried to commend Trump for being a selfish moron: You know what Donald Trump said about Brexit? What he said was, you don t have to listen to me because it s not my decision. He didn t weigh in like Hillary Clinton did, like Barack Obama did, saying that you can t do this. Quinn fought back, Because he didn t know what it was. Lewandowski was fighting a losing battle. Trump s reaction to Brexit was just as terrifying as it was humorous   it truly proved that Trump knows nothing about foreign affairs, and hasn t spent any time educating himself since the beginning of his presidential candidacy. If only some of the hours he spent getting into fights on Twitter were being used for learning about how the world works. But instead, he once again exposed himself as an unfit choice for President. And when people like Lewandowski try to make sense of his idiocy, they only make themselves look equally foolish.You can watch the embarrassing video below:Featured image via screen capture\",\n          \"A Michigan woman decided to defend against tyranny? when she and another shopper couldn t agree over who got to buy the last notebook on the shelf at the Novi Towne Center store.According to ABC 13, the brawl   yes, brawl    involved two Farmington Hills residents, ages 46 and 32, and a mother and daughter from South Lyon, ages 51 and 20. In other words, these were all grown adults who should have known better but hey   there was only one notebook on the shelf, and we ve all seen what happens in those post-apocalyptic movies when a store is down to the last gallon of milk, right?Two of the women, one of whom was the unnamed 20-year-old, reached for the notebook at the same time. The 46 and 32-year-olds apparently decided that she wasn t getting their goddamn notebook and began pulling her hair.Then, because this had almost hit peak  trailer park,  the 20-year-old s mother decided to go for bonus points by pulling out her gun. Fortunately, someone pushed her aside before she could do any harm.This is one of the NRA s  responsible gun owners  (conservatives can t dismiss this one, as it is confirmed that she is a concealed carry permit holder)   ready to leap into action at the most minor sign of danger and make things worse by turning the situation potentially deadly.Watch it happen below:Featured image via screengrab\"\n        ],\n        \"semantic_type\": \"\",\n        \"description\": \"\"\n      }\n    },\n    {\n      \"column\": \"subject\",\n      \"properties\": {\n        \"dtype\": \"category\",\n        \"num_unique_values\": 6,\n        \"samples\": [\n          \"News\",\n          \"politics\",\n          \"Middle-east\"\n        ],\n        \"semantic_type\": \"\",\n        \"description\": \"\"\n      }\n    },\n    {\n      \"column\": \"date\",\n      \"properties\": {\n        \"dtype\": \"category\",\n        \"num_unique_values\": 1681,\n        \"samples\": [\n          \"Jun 5, 2015\",\n          \"August 28, 2016\",\n          \"June 3, 2017\"\n        ],\n        \"semantic_type\": \"\",\n        \"description\": \"\"\n      }\n    }\n  ]\n}"
            }
          },
          "metadata": {},
          "execution_count": 4
        }
      ],
      "source": [
        "df_fake.head()"
      ]
    },
    {
      "cell_type": "markdown",
      "source": [
        "**IMPORTING THE NECESSARY LIBRARIES**"
      ],
      "metadata": {
        "id": "iFXQNkOzYojX"
      }
    },
    {
      "cell_type": "code",
      "execution_count": null,
      "metadata": {
        "id": "jxMuUl3oES3y"
      },
      "outputs": [],
      "source": [
        "import pandas as pd\n",
        "import matplotlib.pyplot as plt\n",
        "from sklearn.preprocessing import LabelEncoder\n",
        "from keras import Sequential\n",
        "from keras.layers import Embedding, Dense, LSTM\n",
        "from keras.preprocessing.text import one_hot\n",
        "from keras.utils import pad_sequences\n",
        "import nltk\n",
        "from nltk.stem.snowball import SnowballStemmer\n",
        "import regex as re\n",
        "from nltk.tokenize import sent_tokenize\n",
        "from sklearn.metrics import accuracy_score, confusion_matrix, classification_report\n",
        "from sklearn.model_selection import train_test_split\n",
        "import warnings\n",
        "warnings.filterwarnings('ignore')\n",
        "from nltk.corpus import stopwords"
      ]
    },
    {
      "cell_type": "markdown",
      "source": [
        "**PREPROCESSING**"
      ],
      "metadata": {
        "id": "O5-SRRLZZK2Q"
      }
    },
    {
      "cell_type": "code",
      "execution_count": null,
      "metadata": {
        "colab": {
          "base_uri": "https://localhost:8080/"
        },
        "id": "vbGJZaJOS8qD",
        "outputId": "44d4f4a3-438a-4730-88c6-9db627d80a3a"
      },
      "outputs": [
        {
          "output_type": "stream",
          "name": "stderr",
          "text": [
            "[nltk_data] Downloading package stopwords to /root/nltk_data...\n",
            "[nltk_data]   Unzipping corpora/stopwords.zip.\n",
            "[nltk_data] Downloading package punkt to /root/nltk_data...\n",
            "[nltk_data]   Unzipping tokenizers/punkt.zip.\n",
            "[nltk_data] Downloading package wordnet to /root/nltk_data...\n"
          ]
        }
      ],
      "source": [
        "nltk.download('stopwords')\n",
        "nltk.download('punkt')\n",
        "nltk.download('wordnet')\n",
        "\n",
        "stop_words = stopwords.words('english')"
      ]
    },
    {
      "cell_type": "code",
      "execution_count": null,
      "metadata": {
        "id": "5JuWa8PRS_c6"
      },
      "outputs": [],
      "source": [
        "df_true['status'] = 0\n",
        "df_fake['status'] = 1"
      ]
    },
    {
      "cell_type": "code",
      "execution_count": null,
      "metadata": {
        "id": "ymeLmnafTUnh"
      },
      "outputs": [],
      "source": [
        "df = pd.concat([df_true,df_fake])\n",
        "df.drop(['subject','text','date'],axis=1,inplace=True)"
      ]
    },
    {
      "cell_type": "code",
      "execution_count": null,
      "metadata": {
        "id": "nlqb8fJUTa-h"
      },
      "outputs": [],
      "source": [
        "random_indexes = np.random.randint(0,len(df),len(df))\n",
        "df = df.iloc[random_indexes].reset_index(drop=True)"
      ]
    },
    {
      "cell_type": "code",
      "execution_count": null,
      "metadata": {
        "colab": {
          "base_uri": "https://localhost:8080/",
          "height": 676
        },
        "id": "4Ev2aLMLThDR",
        "outputId": "f259ee75-1149-4c49-8fe6-86e0aa79b627"
      },
      "outputs": [
        {
          "output_type": "execute_result",
          "data": {
            "text/plain": [
              "                                                                                                      title  \\\n",
              "25419                                   Nigerian police official defends unit against brutality accusations   \n",
              "20088                                            U.S. House to vote on non-nuclear Iran sanctions next week   \n",
              "38256                                                   WATCH: Republican Strategist BLASTS ‘Lawless’ Trump   \n",
              "27043                                             Nigeria asks Britain for gear to fight Islamists: Johnson   \n",
              "18410                                           EXPOSE THE LIES: Shut Down Planned Parenthood’s Phone Lines   \n",
              "27444                                                U.S. conservative activist Phyllis Schlafly dead at 92   \n",
              "10456                                     Panama illegal drug seizures set to hit record in 2017: officials   \n",
              "34310  CNN’S FAKE NEWS BACKFIRES! CNN Legal Analyst Agrees With Trump On FBI, DOJ: “Off the rails!” [Video]   \n",
              "43161                                 China urges restraint amid war of words between Trump and North Korea   \n",
              "6829                                               Senator Flake expects more Republicans to denounce Trump   \n",
              "31587                     FAKE NEWS WEEK: How Mainstream Media ‘Fake News’ Led to the U.S. Invasion of Iraq   \n",
              "17481                                                                            Trump fires adviser Bannon   \n",
              "11807       SCARAMUCCI ON WH LEAKS: “If you’re going to keep leaking, I’m going to fire everybody.” [VIDEO]   \n",
              "17235                        Jared Fogle Sues Parents Of His Victim, Says It’s Their Fault She’s Screwed Up   \n",
              "14345                                In first, U.S. defense chief to attend Mexican Independence Day events   \n",
              "40425                                                          LIST OF U.S. STATES With Most Illegal Aliens   \n",
              "32540      Is Democratic Party Attempting a ‘Soft Coup’? Efforts Underway to Hijack Electoral College Vote…   \n",
              "38537                    After Republicans Gut Zika Funding, Rubio Says Infected Women Can’t Have Abortions   \n",
              "40050                         Obama And Kerry Exposed: Secret Side Deals With Iran And No Nuclear Agreement   \n",
              "15590                         BOMBSHELL: Trump Lied – His ‘Armada’ Was NOT Headed Toward North Korea At All   \n",
              "\n",
              "       status  \n",
              "25419       0  \n",
              "20088       0  \n",
              "38256       1  \n",
              "27043       0  \n",
              "18410       1  \n",
              "27444       0  \n",
              "10456       0  \n",
              "34310       1  \n",
              "43161       0  \n",
              "6829        0  \n",
              "31587       1  \n",
              "17481       0  \n",
              "11807       1  \n",
              "17235       1  \n",
              "14345       0  \n",
              "40425       1  \n",
              "32540       1  \n",
              "38537       1  \n",
              "40050       1  \n",
              "15590       1  "
            ],
            "text/html": [
              "\n",
              "  <div id=\"df-88d05e99-467e-44d3-8b3b-6c3db9a13dae\" class=\"colab-df-container\">\n",
              "    <div>\n",
              "<style scoped>\n",
              "    .dataframe tbody tr th:only-of-type {\n",
              "        vertical-align: middle;\n",
              "    }\n",
              "\n",
              "    .dataframe tbody tr th {\n",
              "        vertical-align: top;\n",
              "    }\n",
              "\n",
              "    .dataframe thead th {\n",
              "        text-align: right;\n",
              "    }\n",
              "</style>\n",
              "<table border=\"1\" class=\"dataframe\">\n",
              "  <thead>\n",
              "    <tr style=\"text-align: right;\">\n",
              "      <th></th>\n",
              "      <th>title</th>\n",
              "      <th>status</th>\n",
              "    </tr>\n",
              "  </thead>\n",
              "  <tbody>\n",
              "    <tr>\n",
              "      <th>25419</th>\n",
              "      <td>Nigerian police official defends unit against brutality accusations</td>\n",
              "      <td>0</td>\n",
              "    </tr>\n",
              "    <tr>\n",
              "      <th>20088</th>\n",
              "      <td>U.S. House to vote on non-nuclear Iran sanctions next week</td>\n",
              "      <td>0</td>\n",
              "    </tr>\n",
              "    <tr>\n",
              "      <th>38256</th>\n",
              "      <td>WATCH: Republican Strategist BLASTS ‘Lawless’ Trump</td>\n",
              "      <td>1</td>\n",
              "    </tr>\n",
              "    <tr>\n",
              "      <th>27043</th>\n",
              "      <td>Nigeria asks Britain for gear to fight Islamists: Johnson</td>\n",
              "      <td>0</td>\n",
              "    </tr>\n",
              "    <tr>\n",
              "      <th>18410</th>\n",
              "      <td>EXPOSE THE LIES: Shut Down Planned Parenthood’s Phone Lines</td>\n",
              "      <td>1</td>\n",
              "    </tr>\n",
              "    <tr>\n",
              "      <th>27444</th>\n",
              "      <td>U.S. conservative activist Phyllis Schlafly dead at 92</td>\n",
              "      <td>0</td>\n",
              "    </tr>\n",
              "    <tr>\n",
              "      <th>10456</th>\n",
              "      <td>Panama illegal drug seizures set to hit record in 2017: officials</td>\n",
              "      <td>0</td>\n",
              "    </tr>\n",
              "    <tr>\n",
              "      <th>34310</th>\n",
              "      <td>CNN’S FAKE NEWS BACKFIRES! CNN Legal Analyst Agrees With Trump On FBI, DOJ: “Off the rails!” [Video]</td>\n",
              "      <td>1</td>\n",
              "    </tr>\n",
              "    <tr>\n",
              "      <th>43161</th>\n",
              "      <td>China urges restraint amid war of words between Trump and North Korea</td>\n",
              "      <td>0</td>\n",
              "    </tr>\n",
              "    <tr>\n",
              "      <th>6829</th>\n",
              "      <td>Senator Flake expects more Republicans to denounce Trump</td>\n",
              "      <td>0</td>\n",
              "    </tr>\n",
              "    <tr>\n",
              "      <th>31587</th>\n",
              "      <td>FAKE NEWS WEEK: How Mainstream Media ‘Fake News’ Led to the U.S. Invasion of Iraq</td>\n",
              "      <td>1</td>\n",
              "    </tr>\n",
              "    <tr>\n",
              "      <th>17481</th>\n",
              "      <td>Trump fires adviser Bannon</td>\n",
              "      <td>0</td>\n",
              "    </tr>\n",
              "    <tr>\n",
              "      <th>11807</th>\n",
              "      <td>SCARAMUCCI ON WH LEAKS: “If you’re going to keep leaking, I’m going to fire everybody.” [VIDEO]</td>\n",
              "      <td>1</td>\n",
              "    </tr>\n",
              "    <tr>\n",
              "      <th>17235</th>\n",
              "      <td>Jared Fogle Sues Parents Of His Victim, Says It’s Their Fault She’s Screwed Up</td>\n",
              "      <td>1</td>\n",
              "    </tr>\n",
              "    <tr>\n",
              "      <th>14345</th>\n",
              "      <td>In first, U.S. defense chief to attend Mexican Independence Day events</td>\n",
              "      <td>0</td>\n",
              "    </tr>\n",
              "    <tr>\n",
              "      <th>40425</th>\n",
              "      <td>LIST OF U.S. STATES With Most Illegal Aliens</td>\n",
              "      <td>1</td>\n",
              "    </tr>\n",
              "    <tr>\n",
              "      <th>32540</th>\n",
              "      <td>Is Democratic Party Attempting a ‘Soft Coup’? Efforts Underway to Hijack Electoral College Vote…</td>\n",
              "      <td>1</td>\n",
              "    </tr>\n",
              "    <tr>\n",
              "      <th>38537</th>\n",
              "      <td>After Republicans Gut Zika Funding, Rubio Says Infected Women Can’t Have Abortions</td>\n",
              "      <td>1</td>\n",
              "    </tr>\n",
              "    <tr>\n",
              "      <th>40050</th>\n",
              "      <td>Obama And Kerry Exposed: Secret Side Deals With Iran And No Nuclear Agreement</td>\n",
              "      <td>1</td>\n",
              "    </tr>\n",
              "    <tr>\n",
              "      <th>15590</th>\n",
              "      <td>BOMBSHELL: Trump Lied – His ‘Armada’ Was NOT Headed Toward North Korea At All</td>\n",
              "      <td>1</td>\n",
              "    </tr>\n",
              "  </tbody>\n",
              "</table>\n",
              "</div>\n",
              "    <div class=\"colab-df-buttons\">\n",
              "\n",
              "  <div class=\"colab-df-container\">\n",
              "    <button class=\"colab-df-convert\" onclick=\"convertToInteractive('df-88d05e99-467e-44d3-8b3b-6c3db9a13dae')\"\n",
              "            title=\"Convert this dataframe to an interactive table.\"\n",
              "            style=\"display:none;\">\n",
              "\n",
              "  <svg xmlns=\"http://www.w3.org/2000/svg\" height=\"24px\" viewBox=\"0 -960 960 960\">\n",
              "    <path d=\"M120-120v-720h720v720H120Zm60-500h600v-160H180v160Zm220 220h160v-160H400v160Zm0 220h160v-160H400v160ZM180-400h160v-160H180v160Zm440 0h160v-160H620v160ZM180-180h160v-160H180v160Zm440 0h160v-160H620v160Z\"/>\n",
              "  </svg>\n",
              "    </button>\n",
              "\n",
              "  <style>\n",
              "    .colab-df-container {\n",
              "      display:flex;\n",
              "      gap: 12px;\n",
              "    }\n",
              "\n",
              "    .colab-df-convert {\n",
              "      background-color: #E8F0FE;\n",
              "      border: none;\n",
              "      border-radius: 50%;\n",
              "      cursor: pointer;\n",
              "      display: none;\n",
              "      fill: #1967D2;\n",
              "      height: 32px;\n",
              "      padding: 0 0 0 0;\n",
              "      width: 32px;\n",
              "    }\n",
              "\n",
              "    .colab-df-convert:hover {\n",
              "      background-color: #E2EBFA;\n",
              "      box-shadow: 0px 1px 2px rgba(60, 64, 67, 0.3), 0px 1px 3px 1px rgba(60, 64, 67, 0.15);\n",
              "      fill: #174EA6;\n",
              "    }\n",
              "\n",
              "    .colab-df-buttons div {\n",
              "      margin-bottom: 4px;\n",
              "    }\n",
              "\n",
              "    [theme=dark] .colab-df-convert {\n",
              "      background-color: #3B4455;\n",
              "      fill: #D2E3FC;\n",
              "    }\n",
              "\n",
              "    [theme=dark] .colab-df-convert:hover {\n",
              "      background-color: #434B5C;\n",
              "      box-shadow: 0px 1px 3px 1px rgba(0, 0, 0, 0.15);\n",
              "      filter: drop-shadow(0px 1px 2px rgba(0, 0, 0, 0.3));\n",
              "      fill: #FFFFFF;\n",
              "    }\n",
              "  </style>\n",
              "\n",
              "    <script>\n",
              "      const buttonEl =\n",
              "        document.querySelector('#df-88d05e99-467e-44d3-8b3b-6c3db9a13dae button.colab-df-convert');\n",
              "      buttonEl.style.display =\n",
              "        google.colab.kernel.accessAllowed ? 'block' : 'none';\n",
              "\n",
              "      async function convertToInteractive(key) {\n",
              "        const element = document.querySelector('#df-88d05e99-467e-44d3-8b3b-6c3db9a13dae');\n",
              "        const dataTable =\n",
              "          await google.colab.kernel.invokeFunction('convertToInteractive',\n",
              "                                                    [key], {});\n",
              "        if (!dataTable) return;\n",
              "\n",
              "        const docLinkHtml = 'Like what you see? Visit the ' +\n",
              "          '<a target=\"_blank\" href=https://colab.research.google.com/notebooks/data_table.ipynb>data table notebook</a>'\n",
              "          + ' to learn more about interactive tables.';\n",
              "        element.innerHTML = '';\n",
              "        dataTable['output_type'] = 'display_data';\n",
              "        await google.colab.output.renderOutput(dataTable, element);\n",
              "        const docLink = document.createElement('div');\n",
              "        docLink.innerHTML = docLinkHtml;\n",
              "        element.appendChild(docLink);\n",
              "      }\n",
              "    </script>\n",
              "  </div>\n",
              "\n",
              "\n",
              "<div id=\"df-5b1f2ac0-0879-4600-8188-b812a715ac1d\">\n",
              "  <button class=\"colab-df-quickchart\" onclick=\"quickchart('df-5b1f2ac0-0879-4600-8188-b812a715ac1d')\"\n",
              "            title=\"Suggest charts\"\n",
              "            style=\"display:none;\">\n",
              "\n",
              "<svg xmlns=\"http://www.w3.org/2000/svg\" height=\"24px\"viewBox=\"0 0 24 24\"\n",
              "     width=\"24px\">\n",
              "    <g>\n",
              "        <path d=\"M19 3H5c-1.1 0-2 .9-2 2v14c0 1.1.9 2 2 2h14c1.1 0 2-.9 2-2V5c0-1.1-.9-2-2-2zM9 17H7v-7h2v7zm4 0h-2V7h2v10zm4 0h-2v-4h2v4z\"/>\n",
              "    </g>\n",
              "</svg>\n",
              "  </button>\n",
              "\n",
              "<style>\n",
              "  .colab-df-quickchart {\n",
              "      --bg-color: #E8F0FE;\n",
              "      --fill-color: #1967D2;\n",
              "      --hover-bg-color: #E2EBFA;\n",
              "      --hover-fill-color: #174EA6;\n",
              "      --disabled-fill-color: #AAA;\n",
              "      --disabled-bg-color: #DDD;\n",
              "  }\n",
              "\n",
              "  [theme=dark] .colab-df-quickchart {\n",
              "      --bg-color: #3B4455;\n",
              "      --fill-color: #D2E3FC;\n",
              "      --hover-bg-color: #434B5C;\n",
              "      --hover-fill-color: #FFFFFF;\n",
              "      --disabled-bg-color: #3B4455;\n",
              "      --disabled-fill-color: #666;\n",
              "  }\n",
              "\n",
              "  .colab-df-quickchart {\n",
              "    background-color: var(--bg-color);\n",
              "    border: none;\n",
              "    border-radius: 50%;\n",
              "    cursor: pointer;\n",
              "    display: none;\n",
              "    fill: var(--fill-color);\n",
              "    height: 32px;\n",
              "    padding: 0;\n",
              "    width: 32px;\n",
              "  }\n",
              "\n",
              "  .colab-df-quickchart:hover {\n",
              "    background-color: var(--hover-bg-color);\n",
              "    box-shadow: 0 1px 2px rgba(60, 64, 67, 0.3), 0 1px 3px 1px rgba(60, 64, 67, 0.15);\n",
              "    fill: var(--button-hover-fill-color);\n",
              "  }\n",
              "\n",
              "  .colab-df-quickchart-complete:disabled,\n",
              "  .colab-df-quickchart-complete:disabled:hover {\n",
              "    background-color: var(--disabled-bg-color);\n",
              "    fill: var(--disabled-fill-color);\n",
              "    box-shadow: none;\n",
              "  }\n",
              "\n",
              "  .colab-df-spinner {\n",
              "    border: 2px solid var(--fill-color);\n",
              "    border-color: transparent;\n",
              "    border-bottom-color: var(--fill-color);\n",
              "    animation:\n",
              "      spin 1s steps(1) infinite;\n",
              "  }\n",
              "\n",
              "  @keyframes spin {\n",
              "    0% {\n",
              "      border-color: transparent;\n",
              "      border-bottom-color: var(--fill-color);\n",
              "      border-left-color: var(--fill-color);\n",
              "    }\n",
              "    20% {\n",
              "      border-color: transparent;\n",
              "      border-left-color: var(--fill-color);\n",
              "      border-top-color: var(--fill-color);\n",
              "    }\n",
              "    30% {\n",
              "      border-color: transparent;\n",
              "      border-left-color: var(--fill-color);\n",
              "      border-top-color: var(--fill-color);\n",
              "      border-right-color: var(--fill-color);\n",
              "    }\n",
              "    40% {\n",
              "      border-color: transparent;\n",
              "      border-right-color: var(--fill-color);\n",
              "      border-top-color: var(--fill-color);\n",
              "    }\n",
              "    60% {\n",
              "      border-color: transparent;\n",
              "      border-right-color: var(--fill-color);\n",
              "    }\n",
              "    80% {\n",
              "      border-color: transparent;\n",
              "      border-right-color: var(--fill-color);\n",
              "      border-bottom-color: var(--fill-color);\n",
              "    }\n",
              "    90% {\n",
              "      border-color: transparent;\n",
              "      border-bottom-color: var(--fill-color);\n",
              "    }\n",
              "  }\n",
              "</style>\n",
              "\n",
              "  <script>\n",
              "    async function quickchart(key) {\n",
              "      const quickchartButtonEl =\n",
              "        document.querySelector('#' + key + ' button');\n",
              "      quickchartButtonEl.disabled = true;  // To prevent multiple clicks.\n",
              "      quickchartButtonEl.classList.add('colab-df-spinner');\n",
              "      try {\n",
              "        const charts = await google.colab.kernel.invokeFunction(\n",
              "            'suggestCharts', [key], {});\n",
              "      } catch (error) {\n",
              "        console.error('Error during call to suggestCharts:', error);\n",
              "      }\n",
              "      quickchartButtonEl.classList.remove('colab-df-spinner');\n",
              "      quickchartButtonEl.classList.add('colab-df-quickchart-complete');\n",
              "    }\n",
              "    (() => {\n",
              "      let quickchartButtonEl =\n",
              "        document.querySelector('#df-5b1f2ac0-0879-4600-8188-b812a715ac1d button');\n",
              "      quickchartButtonEl.style.display =\n",
              "        google.colab.kernel.accessAllowed ? 'block' : 'none';\n",
              "    })();\n",
              "  </script>\n",
              "</div>\n",
              "    </div>\n",
              "  </div>\n"
            ],
            "application/vnd.google.colaboratory.intrinsic+json": {
              "type": "dataframe",
              "summary": "{\n  \"name\": \"df\",\n  \"rows\": 20,\n  \"fields\": [\n    {\n      \"column\": \"title\",\n      \"properties\": {\n        \"dtype\": \"string\",\n        \"num_unique_values\": 20,\n        \"samples\": [\n          \"Nigerian police official defends unit against brutality accusations\",\n          \" After Republicans Gut Zika Funding, Rubio Says Infected Women Can\\u2019t Have Abortions\",\n          \"LIST OF U.S. STATES With Most Illegal Aliens\"\n        ],\n        \"semantic_type\": \"\",\n        \"description\": \"\"\n      }\n    },\n    {\n      \"column\": \"status\",\n      \"properties\": {\n        \"dtype\": \"number\",\n        \"std\": 0,\n        \"min\": 0,\n        \"max\": 1,\n        \"num_unique_values\": 2,\n        \"samples\": [\n          1,\n          0\n        ],\n        \"semantic_type\": \"\",\n        \"description\": \"\"\n      }\n    }\n  ]\n}"
            }
          },
          "metadata": {},
          "execution_count": 10
        }
      ],
      "source": [
        "pd.set_option('display.max_colwidth', 500)\n",
        "random = np.random.randint(0,len(df),20)\n",
        "df.iloc[random]"
      ]
    },
    {
      "cell_type": "code",
      "execution_count": null,
      "metadata": {
        "colab": {
          "base_uri": "https://localhost:8080/"
        },
        "id": "a3frEIpkT5EB",
        "outputId": "b76e5a2c-d8a3-47a2-a5d3-c2d4ed3490f9"
      },
      "outputs": [
        {
          "output_type": "stream",
          "name": "stdout",
          "text": [
            "longest sentence having length - 42\n"
          ]
        }
      ],
      "source": [
        "def longest_sentence_length(text):\n",
        "  return len(text.split())\n",
        "\n",
        "df['maximum_length'] = df['title'].apply(lambda x : longest_sentence_length(x))\n",
        "max_length = max(df['maximum_length'].values)\n",
        "print('longest sentence having length -',max_length)"
      ]
    },
    {
      "cell_type": "code",
      "execution_count": null,
      "metadata": {
        "id": "nHkKLZ7EUHlJ"
      },
      "outputs": [],
      "source": [
        "text_cleaning = \"\\b0\\S*|\\b[^A-Za-z0-9]+\"\n",
        "\n",
        "def preprocess_filter(text, stem=False):\n",
        "  text = re.sub(text_cleaning, \" \",str(text.lower()).strip())\n",
        "  tokens = []\n",
        "  for token in text.split():\n",
        "    if token not in stop_words:\n",
        "      if stem:\n",
        "        stemmer = SnowballStemmer(language='english')\n",
        "        token = stemmer.stem(token)\n",
        "      tokens.append(token)\n",
        "  return \" \".join(tokens)"
      ]
    },
    {
      "cell_type": "code",
      "execution_count": null,
      "metadata": {
        "id": "gX12COPrbQhA"
      },
      "outputs": [],
      "source": [
        "# Word embedding with pre padding\n",
        "def one_hot_encoded(text,vocab_size=5000,max_length = 40):\n",
        "    hot_encoded = one_hot(text,vocab_size)\n",
        "    return hot_encoded"
      ]
    },
    {
      "cell_type": "code",
      "execution_count": null,
      "metadata": {
        "id": "nzJiwK9hbScQ"
      },
      "outputs": [],
      "source": [
        "# word embedding pipeline\n",
        "def word_embedding(text):\n",
        "    preprocessed_text=preprocess_filter(text)\n",
        "    return one_hot_encoded(preprocessed_text)"
      ]
    },
    {
      "cell_type": "code",
      "execution_count": null,
      "metadata": {
        "id": "soNCGAbkbWd4"
      },
      "outputs": [],
      "source": [
        "one_hot_encoded_title =df['title'].apply(lambda x : word_embedding(x)).values"
      ]
    },
    {
      "cell_type": "code",
      "execution_count": null,
      "metadata": {
        "id": "QxRRT-zSbfgJ"
      },
      "outputs": [],
      "source": [
        "# padding to make the size equal of the sequences\n",
        "padded_encoded_title = pad_sequences(one_hot_encoded_title,maxlen=max_length,padding = 'pre')"
      ]
    },
    {
      "cell_type": "code",
      "execution_count": null,
      "metadata": {
        "colab": {
          "base_uri": "https://localhost:8080/"
        },
        "id": "rIbPPpg3bjPA",
        "outputId": "91ba031d-3334-4423-e7d9-3edbbb5b4d78"
      },
      "outputs": [
        {
          "output_type": "stream",
          "name": "stdout",
          "text": [
            "(44898, 42)\n",
            "(44898,)\n"
          ]
        }
      ],
      "source": [
        "# Splitting\n",
        "X = padded_encoded_title\n",
        "y = df['status'].values\n",
        "y = np.array(y)\n",
        "\n",
        "# shapes\n",
        "print(X.shape)\n",
        "print(y.shape)"
      ]
    },
    {
      "cell_type": "code",
      "execution_count": null,
      "metadata": {
        "colab": {
          "base_uri": "https://localhost:8080/"
        },
        "id": "nW6cOgNBblf4",
        "outputId": "884877f1-6e1b-4845-896b-23cb187a37ff"
      },
      "outputs": [
        {
          "output_type": "stream",
          "name": "stdout",
          "text": [
            "X train shape (33673, 42)\n",
            "X test shape (11225, 42)\n",
            "y train shape (33673,)\n",
            "y test shape (11225,)\n"
          ]
        }
      ],
      "source": [
        "# Splitting into training, testing\n",
        "X_train,X_test,y_train,y_test = train_test_split(X,y, random_state = 42)\n",
        "\n",
        "# Shape and size of train and test dataset\n",
        "print('X train shape {}'.format(X_train.shape))\n",
        "print('X test shape {}'.format(X_test.shape))\n",
        "print('y train shape {}'.format(y_train.shape))\n",
        "print('y test shape {}'.format(y_test.shape))"
      ]
    },
    {
      "cell_type": "markdown",
      "metadata": {
        "id": "UW48orlfhwgB"
      },
      "source": [
        "**LSTM**"
      ]
    },
    {
      "cell_type": "code",
      "execution_count": null,
      "metadata": {
        "colab": {
          "base_uri": "https://localhost:8080/"
        },
        "id": "c28sDmHWbUXA",
        "outputId": "80868d42-ddc1-4ec9-e31d-fa03d4287660"
      },
      "outputs": [
        {
          "output_type": "stream",
          "name": "stdout",
          "text": [
            "Model: \"sequential\"\n",
            "_________________________________________________________________\n",
            " Layer (type)                Output Shape              Param #   \n",
            "=================================================================\n",
            " embedding (Embedding)       (None, 42, 40)            200000    \n",
            "                                                                 \n",
            " lstm (LSTM)                 (None, 100)               56400     \n",
            "                                                                 \n",
            " dense (Dense)               (None, 1)                 101       \n",
            "                                                                 \n",
            "=================================================================\n",
            "Total params: 256,501\n",
            "Trainable params: 256,501\n",
            "Non-trainable params: 0\n",
            "_________________________________________________________________\n",
            "None\n"
          ]
        }
      ],
      "source": [
        "# Creating NN Model\n",
        "embedded_features = 40\n",
        "model = Sequential()\n",
        "model.add(Embedding(5000,embedded_features,input_length = max_length))\n",
        "model.add(LSTM(100))\n",
        "model.add(Dense(1,activation='sigmoid'))\n",
        "model.compile(loss = 'binary_crossentropy',optimizer= 'adam',metrics = ['accuracy'])\n",
        "print(model.summary())"
      ]
    },
    {
      "cell_type": "code",
      "execution_count": null,
      "metadata": {
        "colab": {
          "base_uri": "https://localhost:8080/"
        },
        "id": "cfE_yiWocOfR",
        "outputId": "29be41e7-c06a-40d1-816e-c0bdeeaf724d"
      },
      "outputs": [
        {
          "output_type": "stream",
          "name": "stdout",
          "text": [
            "Epoch 1/15\n",
            "527/527 [==============================] - 81s 146ms/step - loss: 0.2171 - accuracy: 0.9151 - val_loss: 0.1255 - val_accuracy: 0.9511\n",
            "Epoch 2/15\n",
            "527/527 [==============================] - 72s 136ms/step - loss: 0.0866 - accuracy: 0.9702 - val_loss: 0.1081 - val_accuracy: 0.9609\n",
            "Epoch 3/15\n",
            "527/527 [==============================] - 73s 139ms/step - loss: 0.0500 - accuracy: 0.9828 - val_loss: 0.1038 - val_accuracy: 0.9647\n",
            "Epoch 4/15\n",
            "527/527 [==============================] - 86s 163ms/step - loss: 0.0280 - accuracy: 0.9913 - val_loss: 0.1218 - val_accuracy: 0.9663\n",
            "Epoch 5/15\n",
            "527/527 [==============================] - 55s 105ms/step - loss: 0.0165 - accuracy: 0.9948 - val_loss: 0.1486 - val_accuracy: 0.9668\n",
            "Epoch 6/15\n",
            "527/527 [==============================] - 50s 95ms/step - loss: 0.0120 - accuracy: 0.9964 - val_loss: 0.1593 - val_accuracy: 0.9662\n",
            "Epoch 7/15\n",
            "527/527 [==============================] - 53s 101ms/step - loss: 0.0067 - accuracy: 0.9980 - val_loss: 0.1889 - val_accuracy: 0.9668\n",
            "Epoch 8/15\n",
            "527/527 [==============================] - 49s 93ms/step - loss: 0.0064 - accuracy: 0.9980 - val_loss: 0.1896 - val_accuracy: 0.9660\n",
            "Epoch 9/15\n",
            "527/527 [==============================] - 52s 99ms/step - loss: 0.0070 - accuracy: 0.9976 - val_loss: 0.2049 - val_accuracy: 0.9660\n",
            "Epoch 10/15\n",
            "527/527 [==============================] - 49s 93ms/step - loss: 0.0060 - accuracy: 0.9984 - val_loss: 0.2034 - val_accuracy: 0.9674\n",
            "Epoch 11/15\n",
            "527/527 [==============================] - 53s 100ms/step - loss: 0.0102 - accuracy: 0.9967 - val_loss: 0.1954 - val_accuracy: 0.9666\n",
            "Epoch 12/15\n",
            "527/527 [==============================] - 49s 92ms/step - loss: 0.0016 - accuracy: 0.9996 - val_loss: 0.2140 - val_accuracy: 0.9678\n",
            "Epoch 13/15\n",
            "527/527 [==============================] - 49s 93ms/step - loss: 3.7314e-04 - accuracy: 1.0000 - val_loss: 0.2373 - val_accuracy: 0.9675\n",
            "Epoch 14/15\n",
            "527/527 [==============================] - 46s 88ms/step - loss: 1.3095e-04 - accuracy: 1.0000 - val_loss: 0.2623 - val_accuracy: 0.9666\n",
            "Epoch 15/15\n",
            "527/527 [==============================] - 53s 101ms/step - loss: 5.1295e-05 - accuracy: 1.0000 - val_loss: 0.2778 - val_accuracy: 0.9669\n"
          ]
        },
        {
          "output_type": "execute_result",
          "data": {
            "text/plain": [
              "<keras.callbacks.History at 0x7c7f9994fa60>"
            ]
          },
          "metadata": {},
          "execution_count": 19
        }
      ],
      "source": [
        "# Model training\n",
        "# training\n",
        "model.fit(X_train,y_train,validation_data=(X_test,y_test),epochs=15,batch_size=64)"
      ]
    },
    {
      "cell_type": "code",
      "execution_count": null,
      "metadata": {
        "id": "kWCajOjQcQco"
      },
      "outputs": [],
      "source": [
        "# setting threshold value\n",
        "def best_threshold_value(thresholds:list,X_test):\n",
        "    accuracies = []\n",
        "    for thresh in thresholds:\n",
        "        ypred =model.predict(X_test)\n",
        "        ypred = np.where(ypred> thresh,1,0)\n",
        "        accuracies.append(accuracy_score(y_test,ypred))\n",
        "    return pd.DataFrame({\n",
        "        'Threshold': thresholds,\n",
        "        'Accuracy' : accuracies\n",
        "    })"
      ]
    },
    {
      "cell_type": "code",
      "execution_count": null,
      "metadata": {
        "colab": {
          "base_uri": "https://localhost:8080/",
          "height": 341
        },
        "id": "bkV33KrUdqa6",
        "outputId": "ea0d2246-5352-44b4-872e-e9e2606d78a9"
      },
      "outputs": [
        {
          "output_type": "stream",
          "name": "stdout",
          "text": [
            "351/351 [==============================] - 6s 14ms/step\n",
            "351/351 [==============================] - 6s 17ms/step\n",
            "351/351 [==============================] - 5s 15ms/step\n",
            "351/351 [==============================] - 6s 16ms/step\n",
            "351/351 [==============================] - 6s 16ms/step\n",
            "351/351 [==============================] - 6s 16ms/step\n"
          ]
        },
        {
          "output_type": "execute_result",
          "data": {
            "text/plain": [
              "   Threshold  Accuracy\n",
              "0        0.4  0.966771\n",
              "1        0.5  0.966949\n",
              "2        0.6  0.967394\n",
              "3        0.7  0.967305\n",
              "4        0.8  0.967661\n",
              "5        0.9  0.967929"
            ],
            "text/html": [
              "\n",
              "  <div id=\"df-ada2f41f-014d-494c-a256-d60c14ab83da\" class=\"colab-df-container\">\n",
              "    <div>\n",
              "<style scoped>\n",
              "    .dataframe tbody tr th:only-of-type {\n",
              "        vertical-align: middle;\n",
              "    }\n",
              "\n",
              "    .dataframe tbody tr th {\n",
              "        vertical-align: top;\n",
              "    }\n",
              "\n",
              "    .dataframe thead th {\n",
              "        text-align: right;\n",
              "    }\n",
              "</style>\n",
              "<table border=\"1\" class=\"dataframe\">\n",
              "  <thead>\n",
              "    <tr style=\"text-align: right;\">\n",
              "      <th></th>\n",
              "      <th>Threshold</th>\n",
              "      <th>Accuracy</th>\n",
              "    </tr>\n",
              "  </thead>\n",
              "  <tbody>\n",
              "    <tr>\n",
              "      <th>0</th>\n",
              "      <td>0.4</td>\n",
              "      <td>0.966771</td>\n",
              "    </tr>\n",
              "    <tr>\n",
              "      <th>1</th>\n",
              "      <td>0.5</td>\n",
              "      <td>0.966949</td>\n",
              "    </tr>\n",
              "    <tr>\n",
              "      <th>2</th>\n",
              "      <td>0.6</td>\n",
              "      <td>0.967394</td>\n",
              "    </tr>\n",
              "    <tr>\n",
              "      <th>3</th>\n",
              "      <td>0.7</td>\n",
              "      <td>0.967305</td>\n",
              "    </tr>\n",
              "    <tr>\n",
              "      <th>4</th>\n",
              "      <td>0.8</td>\n",
              "      <td>0.967661</td>\n",
              "    </tr>\n",
              "    <tr>\n",
              "      <th>5</th>\n",
              "      <td>0.9</td>\n",
              "      <td>0.967929</td>\n",
              "    </tr>\n",
              "  </tbody>\n",
              "</table>\n",
              "</div>\n",
              "    <div class=\"colab-df-buttons\">\n",
              "\n",
              "  <div class=\"colab-df-container\">\n",
              "    <button class=\"colab-df-convert\" onclick=\"convertToInteractive('df-ada2f41f-014d-494c-a256-d60c14ab83da')\"\n",
              "            title=\"Convert this dataframe to an interactive table.\"\n",
              "            style=\"display:none;\">\n",
              "\n",
              "  <svg xmlns=\"http://www.w3.org/2000/svg\" height=\"24px\" viewBox=\"0 -960 960 960\">\n",
              "    <path d=\"M120-120v-720h720v720H120Zm60-500h600v-160H180v160Zm220 220h160v-160H400v160Zm0 220h160v-160H400v160ZM180-400h160v-160H180v160Zm440 0h160v-160H620v160ZM180-180h160v-160H180v160Zm440 0h160v-160H620v160Z\"/>\n",
              "  </svg>\n",
              "    </button>\n",
              "\n",
              "  <style>\n",
              "    .colab-df-container {\n",
              "      display:flex;\n",
              "      gap: 12px;\n",
              "    }\n",
              "\n",
              "    .colab-df-convert {\n",
              "      background-color: #E8F0FE;\n",
              "      border: none;\n",
              "      border-radius: 50%;\n",
              "      cursor: pointer;\n",
              "      display: none;\n",
              "      fill: #1967D2;\n",
              "      height: 32px;\n",
              "      padding: 0 0 0 0;\n",
              "      width: 32px;\n",
              "    }\n",
              "\n",
              "    .colab-df-convert:hover {\n",
              "      background-color: #E2EBFA;\n",
              "      box-shadow: 0px 1px 2px rgba(60, 64, 67, 0.3), 0px 1px 3px 1px rgba(60, 64, 67, 0.15);\n",
              "      fill: #174EA6;\n",
              "    }\n",
              "\n",
              "    .colab-df-buttons div {\n",
              "      margin-bottom: 4px;\n",
              "    }\n",
              "\n",
              "    [theme=dark] .colab-df-convert {\n",
              "      background-color: #3B4455;\n",
              "      fill: #D2E3FC;\n",
              "    }\n",
              "\n",
              "    [theme=dark] .colab-df-convert:hover {\n",
              "      background-color: #434B5C;\n",
              "      box-shadow: 0px 1px 3px 1px rgba(0, 0, 0, 0.15);\n",
              "      filter: drop-shadow(0px 1px 2px rgba(0, 0, 0, 0.3));\n",
              "      fill: #FFFFFF;\n",
              "    }\n",
              "  </style>\n",
              "\n",
              "    <script>\n",
              "      const buttonEl =\n",
              "        document.querySelector('#df-ada2f41f-014d-494c-a256-d60c14ab83da button.colab-df-convert');\n",
              "      buttonEl.style.display =\n",
              "        google.colab.kernel.accessAllowed ? 'block' : 'none';\n",
              "\n",
              "      async function convertToInteractive(key) {\n",
              "        const element = document.querySelector('#df-ada2f41f-014d-494c-a256-d60c14ab83da');\n",
              "        const dataTable =\n",
              "          await google.colab.kernel.invokeFunction('convertToInteractive',\n",
              "                                                    [key], {});\n",
              "        if (!dataTable) return;\n",
              "\n",
              "        const docLinkHtml = 'Like what you see? Visit the ' +\n",
              "          '<a target=\"_blank\" href=https://colab.research.google.com/notebooks/data_table.ipynb>data table notebook</a>'\n",
              "          + ' to learn more about interactive tables.';\n",
              "        element.innerHTML = '';\n",
              "        dataTable['output_type'] = 'display_data';\n",
              "        await google.colab.output.renderOutput(dataTable, element);\n",
              "        const docLink = document.createElement('div');\n",
              "        docLink.innerHTML = docLinkHtml;\n",
              "        element.appendChild(docLink);\n",
              "      }\n",
              "    </script>\n",
              "  </div>\n",
              "\n",
              "\n",
              "<div id=\"df-c859dd58-e806-48e5-b093-c1fe333b3da2\">\n",
              "  <button class=\"colab-df-quickchart\" onclick=\"quickchart('df-c859dd58-e806-48e5-b093-c1fe333b3da2')\"\n",
              "            title=\"Suggest charts\"\n",
              "            style=\"display:none;\">\n",
              "\n",
              "<svg xmlns=\"http://www.w3.org/2000/svg\" height=\"24px\"viewBox=\"0 0 24 24\"\n",
              "     width=\"24px\">\n",
              "    <g>\n",
              "        <path d=\"M19 3H5c-1.1 0-2 .9-2 2v14c0 1.1.9 2 2 2h14c1.1 0 2-.9 2-2V5c0-1.1-.9-2-2-2zM9 17H7v-7h2v7zm4 0h-2V7h2v10zm4 0h-2v-4h2v4z\"/>\n",
              "    </g>\n",
              "</svg>\n",
              "  </button>\n",
              "\n",
              "<style>\n",
              "  .colab-df-quickchart {\n",
              "      --bg-color: #E8F0FE;\n",
              "      --fill-color: #1967D2;\n",
              "      --hover-bg-color: #E2EBFA;\n",
              "      --hover-fill-color: #174EA6;\n",
              "      --disabled-fill-color: #AAA;\n",
              "      --disabled-bg-color: #DDD;\n",
              "  }\n",
              "\n",
              "  [theme=dark] .colab-df-quickchart {\n",
              "      --bg-color: #3B4455;\n",
              "      --fill-color: #D2E3FC;\n",
              "      --hover-bg-color: #434B5C;\n",
              "      --hover-fill-color: #FFFFFF;\n",
              "      --disabled-bg-color: #3B4455;\n",
              "      --disabled-fill-color: #666;\n",
              "  }\n",
              "\n",
              "  .colab-df-quickchart {\n",
              "    background-color: var(--bg-color);\n",
              "    border: none;\n",
              "    border-radius: 50%;\n",
              "    cursor: pointer;\n",
              "    display: none;\n",
              "    fill: var(--fill-color);\n",
              "    height: 32px;\n",
              "    padding: 0;\n",
              "    width: 32px;\n",
              "  }\n",
              "\n",
              "  .colab-df-quickchart:hover {\n",
              "    background-color: var(--hover-bg-color);\n",
              "    box-shadow: 0 1px 2px rgba(60, 64, 67, 0.3), 0 1px 3px 1px rgba(60, 64, 67, 0.15);\n",
              "    fill: var(--button-hover-fill-color);\n",
              "  }\n",
              "\n",
              "  .colab-df-quickchart-complete:disabled,\n",
              "  .colab-df-quickchart-complete:disabled:hover {\n",
              "    background-color: var(--disabled-bg-color);\n",
              "    fill: var(--disabled-fill-color);\n",
              "    box-shadow: none;\n",
              "  }\n",
              "\n",
              "  .colab-df-spinner {\n",
              "    border: 2px solid var(--fill-color);\n",
              "    border-color: transparent;\n",
              "    border-bottom-color: var(--fill-color);\n",
              "    animation:\n",
              "      spin 1s steps(1) infinite;\n",
              "  }\n",
              "\n",
              "  @keyframes spin {\n",
              "    0% {\n",
              "      border-color: transparent;\n",
              "      border-bottom-color: var(--fill-color);\n",
              "      border-left-color: var(--fill-color);\n",
              "    }\n",
              "    20% {\n",
              "      border-color: transparent;\n",
              "      border-left-color: var(--fill-color);\n",
              "      border-top-color: var(--fill-color);\n",
              "    }\n",
              "    30% {\n",
              "      border-color: transparent;\n",
              "      border-left-color: var(--fill-color);\n",
              "      border-top-color: var(--fill-color);\n",
              "      border-right-color: var(--fill-color);\n",
              "    }\n",
              "    40% {\n",
              "      border-color: transparent;\n",
              "      border-right-color: var(--fill-color);\n",
              "      border-top-color: var(--fill-color);\n",
              "    }\n",
              "    60% {\n",
              "      border-color: transparent;\n",
              "      border-right-color: var(--fill-color);\n",
              "    }\n",
              "    80% {\n",
              "      border-color: transparent;\n",
              "      border-right-color: var(--fill-color);\n",
              "      border-bottom-color: var(--fill-color);\n",
              "    }\n",
              "    90% {\n",
              "      border-color: transparent;\n",
              "      border-bottom-color: var(--fill-color);\n",
              "    }\n",
              "  }\n",
              "</style>\n",
              "\n",
              "  <script>\n",
              "    async function quickchart(key) {\n",
              "      const quickchartButtonEl =\n",
              "        document.querySelector('#' + key + ' button');\n",
              "      quickchartButtonEl.disabled = true;  // To prevent multiple clicks.\n",
              "      quickchartButtonEl.classList.add('colab-df-spinner');\n",
              "      try {\n",
              "        const charts = await google.colab.kernel.invokeFunction(\n",
              "            'suggestCharts', [key], {});\n",
              "      } catch (error) {\n",
              "        console.error('Error during call to suggestCharts:', error);\n",
              "      }\n",
              "      quickchartButtonEl.classList.remove('colab-df-spinner');\n",
              "      quickchartButtonEl.classList.add('colab-df-quickchart-complete');\n",
              "    }\n",
              "    (() => {\n",
              "      let quickchartButtonEl =\n",
              "        document.querySelector('#df-c859dd58-e806-48e5-b093-c1fe333b3da2 button');\n",
              "      quickchartButtonEl.style.display =\n",
              "        google.colab.kernel.accessAllowed ? 'block' : 'none';\n",
              "    })();\n",
              "  </script>\n",
              "</div>\n",
              "\n",
              "    </div>\n",
              "  </div>\n"
            ],
            "application/vnd.google.colaboratory.intrinsic+json": {
              "type": "dataframe",
              "summary": "{\n  \"name\": \"best_threshold_value([0\",\n  \"rows\": 6,\n  \"fields\": [\n    {\n      \"column\": \"Threshold\",\n      \"properties\": {\n        \"dtype\": \"number\",\n        \"std\": 0.18708286933869706,\n        \"min\": 0.4,\n        \"max\": 0.9,\n        \"num_unique_values\": 6,\n        \"samples\": [\n          0.4,\n          0.5,\n          0.9\n        ],\n        \"semantic_type\": \"\",\n        \"description\": \"\"\n      }\n    },\n    {\n      \"column\": \"Accuracy\",\n      \"properties\": {\n        \"dtype\": \"number\",\n        \"std\": 0.0004315581796486365,\n        \"min\": 0.9667706013363029,\n        \"max\": 0.9679287305122495,\n        \"num_unique_values\": 6,\n        \"samples\": [\n          0.9667706013363029,\n          0.9669487750556793,\n          0.9679287305122495\n        ],\n        \"semantic_type\": \"\",\n        \"description\": \"\"\n      }\n    }\n  ]\n}"
            }
          },
          "metadata": {},
          "execution_count": 21
        }
      ],
      "source": [
        "best_threshold_value([0.4,0.5,0.6,0.7,0.8,0.9], X_test)"
      ]
    },
    {
      "cell_type": "code",
      "execution_count": null,
      "metadata": {
        "colab": {
          "base_uri": "https://localhost:8080/"
        },
        "id": "ISY-BAU5dspo",
        "outputId": "88a3c3bd-0e97-4400-8b0c-3f5df022c791"
      },
      "outputs": [
        {
          "output_type": "stream",
          "name": "stdout",
          "text": [
            "351/351 [==============================] - 9s 26ms/step\n"
          ]
        }
      ],
      "source": [
        "# Predictino value at threshold 0.4\n",
        "y_pred = model.predict(X_test)\n",
        "y_pred = np.where(y_pred >0.9, 1, 0)"
      ]
    },
    {
      "cell_type": "code",
      "execution_count": null,
      "metadata": {
        "colab": {
          "base_uri": "https://localhost:8080/"
        },
        "id": "Ir6g0NFEduUh",
        "outputId": "7326a565-4751-454e-b6ea-8b9d8d68b0a0"
      },
      "outputs": [
        {
          "output_type": "stream",
          "name": "stdout",
          "text": [
            "Confusion matrix\n",
            "[[5254  222]\n",
            " [ 138 5611]]\n",
            "----------------\n",
            "Classification report\n",
            "              precision    recall  f1-score   support\n",
            "\n",
            "           0       0.97      0.96      0.97      5476\n",
            "           1       0.96      0.98      0.97      5749\n",
            "\n",
            "    accuracy                           0.97     11225\n",
            "   macro avg       0.97      0.97      0.97     11225\n",
            "weighted avg       0.97      0.97      0.97     11225\n",
            "\n"
          ]
        }
      ],
      "source": [
        "# Confusion matrix\n",
        "print('Confusion matrix')\n",
        "print(confusion_matrix(y_pred,y_test))\n",
        "print('----------------')\n",
        "print('Classification report')\n",
        "print(classification_report(y_pred,y_test))"
      ]
    },
    {
      "cell_type": "code",
      "execution_count": null,
      "metadata": {
        "id": "qGFkekdpdxEh"
      },
      "outputs": [],
      "source": [
        "# input generator\n",
        "def prediction_input_processing(text):\n",
        "    encoded = word_embedding(text)\n",
        "    padded_encoded_title = pad_sequences([encoded],maxlen=max_length,padding = 'pre')\n",
        "    output = model.predict(padded_encoded_title)\n",
        "    output = np.where(0.4>output,1,0)\n",
        "    if output[0][0] == 1:\n",
        "        return 'Yes this News is fake'\n",
        "    return 'No, It is not fake'\n"
      ]
    },
    {
      "cell_type": "code",
      "execution_count": null,
      "metadata": {
        "colab": {
          "base_uri": "https://localhost:8080/",
          "height": 53
        },
        "id": "4J-4EVULdzwQ",
        "outputId": "66f1f892-911e-408b-d7d4-a3923a358888"
      },
      "outputs": [
        {
          "name": "stdout",
          "output_type": "stream",
          "text": [
            "1/1 [==============================] - 0s 28ms/step\n"
          ]
        },
        {
          "data": {
            "application/vnd.google.colaboratory.intrinsic+json": {
              "type": "string"
            },
            "text/plain": [
              "'No, It is not fake'"
            ]
          },
          "execution_count": 25,
          "metadata": {},
          "output_type": "execute_result"
        }
      ],
      "source": [
        "# predictions\n",
        "prediction_input_processing('Americans are more concerned over Indians fake open source contribution')"
      ]
    },
    {
      "cell_type": "code",
      "execution_count": null,
      "metadata": {
        "colab": {
          "base_uri": "https://localhost:8080/",
          "height": 53
        },
        "id": "o9s7bCyId1S6",
        "outputId": "03defd25-9063-43ff-a7d5-e335c8ecf88a"
      },
      "outputs": [
        {
          "name": "stdout",
          "output_type": "stream",
          "text": [
            "1/1 [==============================] - 0s 48ms/step\n"
          ]
        },
        {
          "data": {
            "application/vnd.google.colaboratory.intrinsic+json": {
              "type": "string"
            },
            "text/plain": [
              "'No, It is not fake'"
            ]
          },
          "execution_count": 26,
          "metadata": {},
          "output_type": "execute_result"
        }
      ],
      "source": [
        "news = 'Trump Just Sent Michelle Obama a Bill She will Never Be able to pay in her lifetime'\n",
        "prediction_input_processing(news)"
      ]
    },
    {
      "cell_type": "markdown",
      "metadata": {
        "id": "YZkQykpxMr10"
      },
      "source": [
        "**CNN**"
      ]
    },
    {
      "cell_type": "code",
      "source": [
        "from sklearn.metrics import accuracy_score, precision_score, recall_score, f1_score\n",
        "import matplotlib.pyplot as plt\n",
        "from tensorflow.keras.models import Sequential\n",
        "from tensorflow.keras.layers import Embedding, Conv1D, GlobalMaxPooling1D, Dense, Dropout\n",
        "\n",
        "vocab_size = 5000\n",
        "max_length = 42\n",
        "\n",
        "# Define the CNN model\n",
        "def create_cnn_model(vocab_size, max_length):\n",
        "    model = Sequential()\n",
        "    model.add(Embedding(vocab_size, 100, input_length=max_length))\n",
        "    model.add(Conv1D(128, 5, activation='relu'))\n",
        "    model.add(GlobalMaxPooling1D())\n",
        "    model.add(Dense(64, activation='relu'))\n",
        "    model.add(Dropout(0.5))\n",
        "    model.add(Dense(1, activation='sigmoid'))\n",
        "    model.compile(optimizer='adam', loss='binary_crossentropy', metrics=['accuracy'])\n",
        "    return model\n",
        "\n",
        "\n",
        "# Create and train the CNN model\n",
        "cnn_model = create_cnn_model(vocab_size, max_length)\n",
        "history = cnn_model.fit(X_train, y_train, epochs=10, batch_size=64, validation_data=(X_test, y_test), verbose=1)\n",
        "\n",
        "# Evaluate the model\n",
        "loss, accuracy = cnn_model.evaluate(X_test, y_test, verbose=0)\n",
        "print(f'Test Accuracy: {accuracy:.4f}')\n",
        "print(f'Test Loss: {loss:.4f}')\n",
        "\n",
        "# Plot training history\n",
        "plt.plot(history.history['accuracy'], label='train_accuracy')\n",
        "plt.plot(history.history['val_accuracy'], label='val_accuracy')\n",
        "plt.title('CNN Model Accuracy')\n",
        "plt.xlabel('Epoch')\n",
        "plt.ylabel('Accuracy')\n",
        "plt.legend()\n",
        "plt.show()\n",
        "\n",
        "plt.plot(history.history['loss'], label='train_loss')\n",
        "plt.plot(history.history['val_loss'], label='val_loss')\n",
        "plt.title('CNN Model Loss')\n",
        "plt.xlabel('Epoch')\n",
        "plt.ylabel('Loss')\n",
        "plt.legend()\n",
        "plt.show()\n"
      ],
      "metadata": {
        "colab": {
          "base_uri": "https://localhost:8080/",
          "height": 1000
        },
        "id": "MX9LW2P9jf03",
        "outputId": "ec8ffdfe-a5d3-4ea6-da09-f5be1ec985fe"
      },
      "execution_count": null,
      "outputs": [
        {
          "output_type": "stream",
          "name": "stdout",
          "text": [
            "Epoch 1/10\n",
            "527/527 [==============================] - 30s 51ms/step - loss: 0.2209 - accuracy: 0.9102 - val_loss: 0.1066 - val_accuracy: 0.9620\n",
            "Epoch 2/10\n",
            "527/527 [==============================] - 28s 53ms/step - loss: 0.0636 - accuracy: 0.9798 - val_loss: 0.0945 - val_accuracy: 0.9696\n",
            "Epoch 3/10\n",
            "527/527 [==============================] - 24s 45ms/step - loss: 0.0208 - accuracy: 0.9940 - val_loss: 0.1138 - val_accuracy: 0.9686\n",
            "Epoch 4/10\n",
            "527/527 [==============================] - 23s 45ms/step - loss: 0.0079 - accuracy: 0.9977 - val_loss: 0.1388 - val_accuracy: 0.9694\n",
            "Epoch 5/10\n",
            "527/527 [==============================] - 23s 43ms/step - loss: 0.0038 - accuracy: 0.9992 - val_loss: 0.1587 - val_accuracy: 0.9732\n",
            "Epoch 6/10\n",
            "527/527 [==============================] - 22s 42ms/step - loss: 0.0014 - accuracy: 0.9997 - val_loss: 0.1868 - val_accuracy: 0.9711\n",
            "Epoch 7/10\n",
            "527/527 [==============================] - 24s 46ms/step - loss: 5.1766e-04 - accuracy: 0.9999 - val_loss: 0.1953 - val_accuracy: 0.9735\n",
            "Epoch 8/10\n",
            "527/527 [==============================] - 22s 43ms/step - loss: 0.0041 - accuracy: 0.9987 - val_loss: 0.1694 - val_accuracy: 0.9681\n",
            "Epoch 9/10\n",
            "527/527 [==============================] - 29s 56ms/step - loss: 0.0094 - accuracy: 0.9968 - val_loss: 0.1733 - val_accuracy: 0.9701\n",
            "Epoch 10/10\n",
            "527/527 [==============================] - 28s 54ms/step - loss: 0.0024 - accuracy: 0.9991 - val_loss: 0.2166 - val_accuracy: 0.9683\n",
            "Test Accuracy: 0.9683\n",
            "Test Loss: 0.2166\n"
          ]
        },
        {
          "output_type": "display_data",
          "data": {
            "text/plain": [
              "<Figure size 640x480 with 1 Axes>"
            ],
            "image/png": "[encoded data removed]"
          },
          "metadata": {}
        },
        {
          "output_type": "display_data",
          "data": {
            "text/plain": [
              "<Figure size 640x480 with 1 Axes>"
            ],
            "image/png": "[encoded data removed]"
          },
          "metadata": {}
        }
      ]
    },
    {
      "cell_type": "markdown",
      "source": [
        "**BIDIRECTIONAL LSTM**"
      ],
      "metadata": {
        "id": "OhCeU6vgnIJq"
      }
    },
    {
      "cell_type": "code",
      "source": [
        "from tensorflow.keras.layers import LSTM, Bidirectional\n",
        "\n",
        "# Define the Bidirectional LSTM model\n",
        "def create_bidirectional_lstm_model(vocab_size, max_length):\n",
        "    model = Sequential()\n",
        "    model.add(Embedding(vocab_size, 100, input_length=max_length))\n",
        "    model.add(Bidirectional(LSTM(64)))\n",
        "    model.add(Dense(1, activation='sigmoid'))\n",
        "    model.compile(optimizer='adam', loss='binary_crossentropy', metrics=['accuracy'])\n",
        "    return model\n",
        "\n",
        "# Create and train the Bidirectional LSTM model\n",
        "bidirectional_lstm_model = create_bidirectional_lstm_model(vocab_size, max_length)\n",
        "history = bidirectional_lstm_model.fit(X_train, y_train, epochs=10, batch_size=64, validation_data=(X_test, y_test), verbose=1)\n",
        "\n",
        "# Evaluate the model\n",
        "loss, accuracy = bidirectional_lstm_model.evaluate(X_test, y_test, verbose=0)\n",
        "print(f'Test Accuracy: {accuracy:.4f}')\n",
        "print(f'Test Loss: {loss:.4f}')\n",
        "\n",
        "# Plot training history\n",
        "plt.plot(history.history['accuracy'], label='train_accuracy')\n",
        "plt.plot(history.history['val_accuracy'], label='val_accuracy')\n",
        "plt.title('Bidirectional LSTM Model Accuracy')\n",
        "plt.xlabel('Epoch')\n",
        "plt.ylabel('Accuracy')\n",
        "plt.legend()\n",
        "plt.show()\n",
        "\n",
        "plt.plot(history.history['loss'], label='train_loss')\n",
        "plt.plot(history.history['val_loss'], label='val_loss')\n",
        "plt.title('Bidirectional LSTM Model Loss')\n",
        "plt.xlabel('Epoch')\n",
        "plt.ylabel('Loss')\n",
        "plt.legend()\n",
        "plt.show()\n"
      ],
      "metadata": {
        "colab": {
          "base_uri": "https://localhost:8080/",
          "height": 1000
        },
        "id": "alsm8BFameHu",
        "outputId": "ce4ee24a-3f22-42a1-8c50-d7201948b3c1"
      },
      "execution_count": null,
      "outputs": [
        {
          "output_type": "stream",
          "name": "stdout",
          "text": [
            "Epoch 1/10\n",
            "527/527 [==============================] - 90s 162ms/step - loss: 0.2031 - accuracy: 0.9206 - val_loss: 0.1075 - val_accuracy: 0.9605\n",
            "Epoch 2/10\n",
            "527/527 [==============================] - 81s 154ms/step - loss: 0.0763 - accuracy: 0.9730 - val_loss: 0.0933 - val_accuracy: 0.9693\n",
            "Epoch 3/10\n",
            "527/527 [==============================] - 78s 148ms/step - loss: 0.0408 - accuracy: 0.9872 - val_loss: 0.0922 - val_accuracy: 0.9727\n",
            "Epoch 4/10\n",
            "527/527 [==============================] - 66s 125ms/step - loss: 0.0213 - accuracy: 0.9938 - val_loss: 0.1053 - val_accuracy: 0.9694\n",
            "Epoch 5/10\n",
            "527/527 [==============================] - 66s 124ms/step - loss: 0.0137 - accuracy: 0.9959 - val_loss: 0.1213 - val_accuracy: 0.9716\n",
            "Epoch 6/10\n",
            "527/527 [==============================] - 76s 145ms/step - loss: 0.0103 - accuracy: 0.9967 - val_loss: 0.1385 - val_accuracy: 0.9716\n",
            "Epoch 7/10\n",
            "527/527 [==============================] - 66s 125ms/step - loss: 0.0061 - accuracy: 0.9981 - val_loss: 0.1514 - val_accuracy: 0.9704\n",
            "Epoch 8/10\n",
            "527/527 [==============================] - 65s 124ms/step - loss: 0.0066 - accuracy: 0.9975 - val_loss: 0.1767 - val_accuracy: 0.9662\n",
            "Epoch 9/10\n",
            "527/527 [==============================] - 66s 124ms/step - loss: 0.0047 - accuracy: 0.9982 - val_loss: 0.1831 - val_accuracy: 0.9699\n",
            "Epoch 10/10\n",
            "527/527 [==============================] - 75s 141ms/step - loss: 0.0042 - accuracy: 0.9985 - val_loss: 0.1987 - val_accuracy: 0.9707\n",
            "Test Accuracy: 0.9707\n",
            "Test Loss: 0.1987\n"
          ]
        },
        {
          "output_type": "display_data",
          "data": {
            "text/plain": [
              "<Figure size 640x480 with 1 Axes>"
            ],
            "image/png": "[encoded data removed]"
          },
          "metadata": {}
        },
        {
          "output_type": "display_data",
          "data": {
            "text/plain": [
              "<Figure size 640x480 with 1 Axes>"
            ],
            "image/png": "[encoded data removed]"
          },
          "metadata": {}
        }
      ]
    },
    {
      "cell_type": "markdown",
      "source": [
        "**RESNET**"
      ],
      "metadata": {
        "id": "JnkqJ1S1nOA1"
      }
    },
    {
      "cell_type": "code",
      "source": [
        "from tensorflow.keras.layers import Input, Conv1D, BatchNormalization, Activation, Add, MaxPooling1D, Flatten, Dense\n",
        "from tensorflow.keras.models import Model\n",
        "\n",
        "# Define the Residual Block\n",
        "def residual_block(x, filters, kernel_size, strides):\n",
        "    y = Conv1D(filters, kernel_size, strides=strides, padding='same')(x)\n",
        "    y = BatchNormalization()(y)\n",
        "    y = Activation('relu')(y)\n",
        "\n",
        "    y = Conv1D(filters, kernel_size, padding='same')(y)\n",
        "    y = BatchNormalization()(y)\n",
        "\n",
        "    if strides != 1 or x.shape[-1] != filters:\n",
        "        x = Conv1D(filters, 1, strides=strides, padding='same')(x)\n",
        "\n",
        "    y = Add()([x, y])\n",
        "    y = Activation('relu')(y)\n",
        "    return y\n",
        "\n",
        "# Define the ResNet model\n",
        "def create_resnet_model(input_shape):\n",
        "    inputs = Input(shape=input_shape)\n",
        "    x = Conv1D(64, 7, strides=2, padding='same')(inputs)\n",
        "    x = BatchNormalization()(x)\n",
        "    x = Activation('relu')(x)\n",
        "    x = MaxPooling1D(pool_size=3, strides=2, padding='same')(x)\n",
        "    x = residual_block(x, filters=64, kernel_size=3, strides=1)\n",
        "    x = residual_block(x, filters=64, kernel_size=3, strides=1)\n",
        "    x = MaxPooling1D(pool_size=3, strides=2, padding='same')(x)\n",
        "    x = residual_block(x, filters=128, kernel_size=3, strides=1)\n",
        "    x = residual_block(x, filters=128, kernel_size=3, strides=1)\n",
        "    x = MaxPooling1D(pool_size=3, strides=2, padding='same')(x)\n",
        "    x = Flatten()(x)\n",
        "    x = Dense(256, activation='relu')(x)\n",
        "    outputs = Dense(1, activation='sigmoid')(x)\n",
        "    model = Model(inputs, outputs)\n",
        "    model.compile(optimizer='adam', loss='binary_crossentropy', metrics=['accuracy'])\n",
        "    return model\n",
        "\n",
        "# Create and train the ResNet model\n",
        "resnet_model = create_resnet_model(input_shape=(max_length, 1))\n",
        "history = resnet_model.fit(X_train.reshape(-1, max_length, 1), y_train, epochs=10, batch_size=64, validation_data=(X_test.reshape(-1, max_length, 1), y_test), verbose=1)\n",
        "\n",
        "# Evaluate the model\n",
        "loss, accuracy = resnet_model.evaluate(X_test.reshape(-1, max_length, 1), y_test, verbose=0)\n",
        "print(f'Test Accuracy: {accuracy:.4f}')\n",
        "print(f'Test Loss: {loss:.4f}')\n",
        "\n",
        "# Plot training history\n",
        "plt.plot(history.history['accuracy'], label='train_accuracy')\n",
        "plt.plot(history.history['val_accuracy'], label='val_accuracy')\n",
        "plt.title('ResNet Model Accuracy')\n",
        "plt.xlabel('Epoch')\n",
        "plt.ylabel('Accuracy')\n",
        "plt.legend()\n",
        "plt.show()\n",
        "\n",
        "plt.plot(history.history['loss'], label='train_loss')\n",
        "plt.plot(history.history['val_loss'], label='val_loss')\n",
        "plt.title('ResNet Model Loss')\n",
        "plt.xlabel('Epoch')\n",
        "plt.ylabel('Loss')\n",
        "plt.legend()\n",
        "plt.show()\n"
      ],
      "metadata": {
        "colab": {
          "base_uri": "https://localhost:8080/",
          "height": 1000
        },
        "id": "Vs0A9q7djfeZ",
        "outputId": "4e3b6ffb-925d-400d-f658-4c5dd26957d1"
      },
      "execution_count": null,
      "outputs": [
        {
          "output_type": "stream",
          "name": "stdout",
          "text": [
            "Epoch 1/10\n",
            "527/527 [==============================] - 32s 50ms/step - loss: 0.5756 - accuracy: 0.7076 - val_loss: 0.5662 - val_accuracy: 0.7159\n",
            "Epoch 2/10\n",
            "527/527 [==============================] - 25s 48ms/step - loss: 0.5319 - accuracy: 0.7247 - val_loss: 0.5297 - val_accuracy: 0.7331\n",
            "Epoch 3/10\n",
            "527/527 [==============================] - 25s 47ms/step - loss: 0.5210 - accuracy: 0.7332 - val_loss: 0.5235 - val_accuracy: 0.7318\n",
            "Epoch 4/10\n",
            "527/527 [==============================] - 26s 50ms/step - loss: 0.5117 - accuracy: 0.7386 - val_loss: 0.5184 - val_accuracy: 0.7359\n",
            "Epoch 5/10\n",
            "527/527 [==============================] - 42s 80ms/step - loss: 0.5018 - accuracy: 0.7483 - val_loss: 0.5285 - val_accuracy: 0.7242\n",
            "Epoch 6/10\n",
            "527/527 [==============================] - 30s 56ms/step - loss: 0.4919 - accuracy: 0.7557 - val_loss: 0.5250 - val_accuracy: 0.7329\n",
            "Epoch 7/10\n",
            "527/527 [==============================] - 26s 50ms/step - loss: 0.4811 - accuracy: 0.7608 - val_loss: 0.5073 - val_accuracy: 0.7476\n",
            "Epoch 8/10\n",
            "527/527 [==============================] - 24s 46ms/step - loss: 0.4710 - accuracy: 0.7704 - val_loss: 0.4940 - val_accuracy: 0.7552\n",
            "Epoch 9/10\n",
            "527/527 [==============================] - 24s 45ms/step - loss: 0.4626 - accuracy: 0.7745 - val_loss: 0.4848 - val_accuracy: 0.7604\n",
            "Epoch 10/10\n",
            "527/527 [==============================] - 29s 55ms/step - loss: 0.4501 - accuracy: 0.7834 - val_loss: 0.4792 - val_accuracy: 0.7650\n",
            "Test Accuracy: 0.7650\n",
            "Test Loss: 0.4792\n"
          ]
        },
        {
          "output_type": "display_data",
          "data": {
            "text/plain": [
              "<Figure size 640x480 with 1 Axes>"
            ],
            "image/png": "[encoded data removed]"
          },
          "metadata": {}
        },
        {
          "output_type": "display_data",
          "data": {
            "text/plain": [
              "<Figure size 640x480 with 1 Axes>"
            ],
            "image/png": "[encoded data removed]"
          },
          "metadata": {}
        }
      ]
    },
    {
      "cell_type": "markdown",
      "source": [
        "**COBRA**"
      ],
      "metadata": {
        "id": "vDgtHJhmoE2j"
      }
    },
    {
      "cell_type": "code",
      "source": [
        "import pandas as pd\n",
        "import numpy as np\n",
        "from sklearn.model_selection import train_test_split\n",
        "from tensorflow.keras.preprocessing.text import Tokenizer\n",
        "from tensorflow.keras.preprocessing.sequence import pad_sequences\n",
        "from tensorflow.keras.layers import Input, Concatenate, Bidirectional, LSTM, Attention, Dense, Embedding\n",
        "from tensorflow.keras.models import Model\n",
        "from sklearn.metrics import accuracy_score\n",
        "\n",
        "# Load the dataset\n",
        "df_true = pd.read_csv(\"/content/fake-news-detection-datasets/News _dataset/True.csv\")\n",
        "df_fake = pd.read_csv(\"/content/fake-news-detection-datasets/News _dataset/Fake.csv\")\n",
        "\n",
        "\n",
        "# Preprocess the data\n",
        "df_true['status'] = 0\n",
        "df_fake['status'] = 1\n",
        "df = pd.concat([df_true, df_fake])\n",
        "df.drop(['subject','text','date'], axis=1, inplace=True)\n",
        "X = df['title']\n",
        "y = df['status']\n",
        "\n",
        "# Tokenize the text data\n",
        "tokenizer = Tokenizer()\n",
        "tokenizer.fit_on_texts(X)\n",
        "X = tokenizer.texts_to_sequences(X)\n",
        "\n",
        "# Pad sequences\n",
        "max_length = 42  # Adjust this based on your data\n",
        "X = pad_sequences(X, maxlen=max_length)\n",
        "\n",
        "# Define vocabulary size\n",
        "vocab_size = len(tokenizer.word_index) + 1  # Adding 1 to account for the padding token\n",
        "\n",
        "# Split the dataset into training and testing sets\n",
        "X_train, X_test, y_train, y_test = train_test_split(X, y, test_size=0.2, random_state=42)\n",
        "\n",
        "def create_cobra_model(max_length):\n",
        "    input_layer = Input(shape=(max_length,))\n",
        "    embedding_layer = Embedding(vocab_size, 100, input_length=max_length)(input_layer)\n",
        "    lstm_layer = Bidirectional(LSTM(64, return_sequences=True))(embedding_layer)\n",
        "    attention_layer = Attention()([lstm_layer, lstm_layer])\n",
        "    concatenated_layer = Concatenate()([lstm_layer, attention_layer])\n",
        "    output_layer = Dense(1, activation='sigmoid')(concatenated_layer)\n",
        "    model = Model(inputs=input_layer, outputs=output_layer)\n",
        "    model.compile(optimizer='adam', loss='binary_crossentropy', metrics=['accuracy'])\n",
        "    return model\n",
        "\n",
        "# Create and train the COBRA model\n",
        "cobra_model = create_cobra_model(max_length)\n",
        "history = cobra_model.fit(X_train, y_train, epochs=10, batch_size=64, validation_data=(X_test, y_test), verbose=1)\n",
        "\n",
        "\n"
      ],
      "metadata": {
        "id": "G5VkXuKbpABP",
        "colab": {
          "base_uri": "https://localhost:8080/"
        },
        "outputId": "e8f9357c-a14c-4f70-ec28-b2201351c0ac"
      },
      "execution_count": null,
      "outputs": [
        {
          "output_type": "stream",
          "name": "stdout",
          "text": [
            "Epoch 1/10\n",
            "562/562 [==============================] - 129s 208ms/step - loss: 0.1612 - accuracy: 0.9386 - val_loss: 0.0810 - val_accuracy: 0.9703\n",
            "Epoch 2/10\n",
            "562/562 [==============================] - 121s 216ms/step - loss: 0.0423 - accuracy: 0.9867 - val_loss: 0.1022 - val_accuracy: 0.9689\n",
            "Epoch 3/10\n",
            "562/562 [==============================] - 109s 195ms/step - loss: 0.0195 - accuracy: 0.9939 - val_loss: 0.0978 - val_accuracy: 0.9695\n",
            "Epoch 4/10\n",
            "562/562 [==============================] - 102s 181ms/step - loss: 0.0116 - accuracy: 0.9965 - val_loss: 0.1272 - val_accuracy: 0.9722\n",
            "Epoch 5/10\n",
            "562/562 [==============================] - 95s 169ms/step - loss: 0.0092 - accuracy: 0.9973 - val_loss: 0.1285 - val_accuracy: 0.9702\n",
            "Epoch 6/10\n",
            "562/562 [==============================] - 101s 180ms/step - loss: 0.0086 - accuracy: 0.9975 - val_loss: 0.1196 - val_accuracy: 0.9718\n",
            "Epoch 7/10\n",
            "562/562 [==============================] - 94s 168ms/step - loss: 0.0049 - accuracy: 0.9985 - val_loss: 0.1461 - val_accuracy: 0.9707\n",
            "Epoch 8/10\n",
            "562/562 [==============================] - 95s 169ms/step - loss: 0.0048 - accuracy: 0.9985 - val_loss: 0.1479 - val_accuracy: 0.9700\n",
            "Epoch 9/10\n",
            "562/562 [==============================] - 94s 167ms/step - loss: 0.0031 - accuracy: 0.9993 - val_loss: 0.1674 - val_accuracy: 0.9708\n",
            "Epoch 10/10\n",
            "562/562 [==============================] - 97s 172ms/step - loss: 0.0022 - accuracy: 0.9995 - val_loss: 0.1478 - val_accuracy: 0.9701\n"
          ]
        }
      ]
    },
    {
      "cell_type": "code",
      "source": [
        "y_test"
      ],
      "metadata": {
        "colab": {
          "base_uri": "https://localhost:8080/"
        },
        "id": "8rK5cpL8azyR",
        "outputId": "f9d37e8c-08bb-4f5d-e778-4d89c19e99c9"
      },
      "execution_count": null,
      "outputs": [
        {
          "output_type": "execute_result",
          "data": {
            "text/plain": [
              "799      1\n",
              "6500     1\n",
              "3590     1\n",
              "1377     0\n",
              "11059    1\n",
              "        ..\n",
              "20702    1\n",
              "4068     0\n",
              "1081     1\n",
              "14658    0\n",
              "15236    0\n",
              "Name: status, Length: 8980, dtype: int64"
            ]
          },
          "metadata": {},
          "execution_count": 21
        }
      ]
    },
    {
      "cell_type": "code",
      "source": [
        "y_pred"
      ],
      "metadata": {
        "colab": {
          "base_uri": "https://localhost:8080/"
        },
        "id": "mY-JhUQVa30b",
        "outputId": "cbcbc271-8db7-444b-e2ac-fdc983995c36"
      },
      "execution_count": null,
      "outputs": [
        {
          "output_type": "execute_result",
          "data": {
            "text/plain": [
              "array([[[9.9873698e-01],\n",
              "        [9.9879485e-01],\n",
              "        [9.9885619e-01],\n",
              "        ...,\n",
              "        [9.9999994e-01],\n",
              "        [9.9999994e-01],\n",
              "        [9.9999994e-01]],\n",
              "\n",
              "       [[9.9997395e-01],\n",
              "        [9.9997383e-01],\n",
              "        [9.9997377e-01],\n",
              "        ...,\n",
              "        [9.9999988e-01],\n",
              "        [1.0000000e+00],\n",
              "        [1.0000000e+00]],\n",
              "\n",
              "       [[9.9997550e-01],\n",
              "        [9.9997532e-01],\n",
              "        [9.9997526e-01],\n",
              "        ...,\n",
              "        [1.0000000e+00],\n",
              "        [1.0000000e+00],\n",
              "        [1.0000000e+00]],\n",
              "\n",
              "       ...,\n",
              "\n",
              "       [[9.9996758e-01],\n",
              "        [9.9996740e-01],\n",
              "        [9.9996740e-01],\n",
              "        ...,\n",
              "        [9.9999952e-01],\n",
              "        [9.9999994e-01],\n",
              "        [1.0000000e+00]],\n",
              "\n",
              "       [[3.3004823e-04],\n",
              "        [3.2668922e-04],\n",
              "        [3.2482704e-04],\n",
              "        ...,\n",
              "        [2.9665744e-04],\n",
              "        [4.4695719e-04],\n",
              "        [7.1253802e-04]],\n",
              "\n",
              "       [[8.6029794e-04],\n",
              "        [8.6326024e-04],\n",
              "        [8.7160023e-04],\n",
              "        ...,\n",
              "        [5.0858059e-04],\n",
              "        [1.0858656e-04],\n",
              "        [5.0579442e-04]]], dtype=float32)"
            ]
          },
          "metadata": {},
          "execution_count": 22
        }
      ]
    },
    {
      "cell_type": "code",
      "source": [
        "y_pred_int"
      ],
      "metadata": {
        "colab": {
          "base_uri": "https://localhost:8080/"
        },
        "id": "QM7Q1WM5bV2g",
        "outputId": "7727fd26-a1f3-4a75-b279-338f353dd0cf"
      },
      "execution_count": null,
      "outputs": [
        {
          "output_type": "execute_result",
          "data": {
            "text/plain": [
              "array([[[1],\n",
              "        [1],\n",
              "        [1],\n",
              "        ...,\n",
              "        [1],\n",
              "        [1],\n",
              "        [1]],\n",
              "\n",
              "       [[1],\n",
              "        [1],\n",
              "        [1],\n",
              "        ...,\n",
              "        [1],\n",
              "        [1],\n",
              "        [1]],\n",
              "\n",
              "       [[1],\n",
              "        [1],\n",
              "        [1],\n",
              "        ...,\n",
              "        [1],\n",
              "        [1],\n",
              "        [1]],\n",
              "\n",
              "       ...,\n",
              "\n",
              "       [[1],\n",
              "        [1],\n",
              "        [1],\n",
              "        ...,\n",
              "        [1],\n",
              "        [1],\n",
              "        [1]],\n",
              "\n",
              "       [[0],\n",
              "        [0],\n",
              "        [0],\n",
              "        ...,\n",
              "        [0],\n",
              "        [0],\n",
              "        [0]],\n",
              "\n",
              "       [[0],\n",
              "        [0],\n",
              "        [0],\n",
              "        ...,\n",
              "        [0],\n",
              "        [0],\n",
              "        [0]]])"
            ]
          },
          "metadata": {},
          "execution_count": 25
        }
      ]
    },
    {
      "cell_type": "code",
      "source": [
        "import numpy as np\n",
        "\n",
        "y_pred_new = np.array(y_pred)\n",
        "y_test_new = np.array(y_test)\n",
        "y_pred_formatted = np.round(y_pred_new).astype(int)\n",
        "y_pred_formatted = y_pred_formatted.squeeze()\n",
        "y_pred_formatted = y_pred_formatted.reshape(-1)\n",
        "y_pred_reshaped = y_pred_formatted.reshape(-1, 42)\n",
        "\n",
        "# Calculate the mean along the second axis (axis=1) to reduce each set of 42 values to a single value\n",
        "y_pred_mean = np.mean(y_pred_reshaped, axis=1)\n",
        "y_pred_int = y_pred_mean.astype(int)\n",
        "\n"
      ],
      "metadata": {
        "id": "1qaqYGcmchp_"
      },
      "execution_count": null,
      "outputs": []
    },
    {
      "cell_type": "code",
      "source": [
        "# Evaluate the model\n",
        "y_pred = cobra_model.predict(X_test)\n",
        "accuracy = accuracy_score(y_test_new, y_pred_int)\n",
        "print(\"Test Accuracy:\", accuracy)\n",
        "\n",
        "# Plot training history\n",
        "import matplotlib.pyplot as plt\n",
        "\n",
        "plt.plot(history.history['accuracy'], label='Train Accuracy')\n",
        "plt.plot(history.history['val_accuracy'], label='Validation Accuracy')\n",
        "plt.xlabel('Epoch')\n",
        "plt.ylabel('Accuracy')\n",
        "plt.title('COBRA model Accuracy')\n",
        "plt.legend()\n",
        "plt.show()\n",
        "\n",
        "plt.plot(history.history['loss'], label='train_loss')\n",
        "plt.plot(history.history['val_loss'], label='val_loss')\n",
        "plt.title('COBRA Model Loss')\n",
        "plt.xlabel('Epoch')\n",
        "plt.ylabel('Loss')\n",
        "plt.legend()\n",
        "plt.show()"
      ],
      "metadata": {
        "colab": {
          "base_uri": "https://localhost:8080/",
          "height": 962
        },
        "id": "OTHKJ9NaVRgu",
        "outputId": "ee7443f2-f7dd-459d-cf1f-8abccfe058bd"
      },
      "execution_count": null,
      "outputs": [
        {
          "output_type": "stream",
          "name": "stdout",
          "text": [
            "281/281 [==============================] - 7s 24ms/step\n",
            "Test Accuracy: 0.9711581291759466\n"
          ]
        },
        {
          "output_type": "display_data",
          "data": {
            "text/plain": [
              "<Figure size 640x480 with 1 Axes>"
            ],
            "image/png": "[encoded data removed]"
          },
          "metadata": {}
        },
        {
          "output_type": "display_data",
          "data": {
            "text/plain": [
              "<Figure size 640x480 with 1 Axes>"
            ],
            "image/png": "[encoded data removed]"
          },
          "metadata": {}
        }
      ]
    },
    {
      "cell_type": "markdown",
      "source": [
        "**GRU**"
      ],
      "metadata": {
        "id": "bcD0vM1iqEzF"
      }
    },
    {
      "cell_type": "code",
      "source": [
        "from tensorflow.keras.layers import GRU, Dense\n",
        "from tensorflow.keras.models import Sequential\n",
        "\n",
        "def create_gru_model(vocab_size, max_length):\n",
        "    model = Sequential()\n",
        "    model.add(Embedding(vocab_size, 100, input_length=max_length))\n",
        "    model.add(GRU(64))\n",
        "    model.add(Dense(1, activation='sigmoid'))\n",
        "    model.compile(optimizer='adam', loss='binary_crossentropy', metrics=['accuracy'])\n",
        "    return model\n",
        "\n",
        "gru_model = create_gru_model(vocab_size, max_length)\n",
        "history = gru_model.fit(X_train, y_train, epochs=10, batch_size=64, validation_data=(X_test, y_test), verbose=1)\n",
        "\n",
        "loss, accuracy = gru_model.evaluate(X_test, y_test, verbose=0)\n",
        "print(f'Test Accuracy: {accuracy:.4f}')\n",
        "print(f'Test Loss: {loss:.4f}')\n",
        "\n",
        "plt.plot(history.history['accuracy'], label='train_accuracy')\n",
        "plt.plot(history.history['val_accuracy'], label='val_accuracy')\n",
        "plt.title('GRU Model Accuracy')\n",
        "plt.xlabel('Epoch')\n",
        "plt.ylabel('Accuracy')\n",
        "plt.legend()\n",
        "plt.show()\n",
        "\n",
        "plt.plot(history.history['loss'], label='train_loss')\n",
        "plt.plot(history.history['val_loss'], label='val_loss')\n",
        "plt.title('GRU Model Loss')\n",
        "plt.xlabel('Epoch')\n",
        "plt.ylabel('Loss')\n",
        "plt.legend()\n",
        "plt.show()\n"
      ],
      "metadata": {
        "colab": {
          "base_uri": "https://localhost:8080/",
          "height": 1000
        },
        "id": "9B8N1sdOqAVV",
        "outputId": "3c887372-5a15-4fdc-ca94-da932dd7a5c5"
      },
      "execution_count": null,
      "outputs": [
        {
          "output_type": "stream",
          "name": "stdout",
          "text": [
            "Epoch 1/10\n",
            "562/562 [==============================] - 52s 89ms/step - loss: 0.1377 - accuracy: 0.9433 - val_loss: 0.0736 - val_accuracy: 0.9726\n",
            "Epoch 2/10\n",
            "562/562 [==============================] - 49s 87ms/step - loss: 0.0293 - accuracy: 0.9900 - val_loss: 0.0682 - val_accuracy: 0.9759\n",
            "Epoch 3/10\n",
            "562/562 [==============================] - 49s 87ms/step - loss: 0.0092 - accuracy: 0.9972 - val_loss: 0.0877 - val_accuracy: 0.9735\n",
            "Epoch 4/10\n",
            "562/562 [==============================] - 49s 88ms/step - loss: 0.0041 - accuracy: 0.9988 - val_loss: 0.1012 - val_accuracy: 0.9726\n",
            "Epoch 5/10\n",
            "562/562 [==============================] - 49s 87ms/step - loss: 0.0029 - accuracy: 0.9992 - val_loss: 0.1154 - val_accuracy: 0.9705\n",
            "Epoch 6/10\n",
            "562/562 [==============================] - 49s 88ms/step - loss: 0.0020 - accuracy: 0.9994 - val_loss: 0.1374 - val_accuracy: 0.9719\n",
            "Epoch 7/10\n",
            "562/562 [==============================] - 48s 86ms/step - loss: 0.0073 - accuracy: 0.9977 - val_loss: 0.1145 - val_accuracy: 0.9706\n",
            "Epoch 8/10\n",
            "562/562 [==============================] - 48s 85ms/step - loss: 0.0019 - accuracy: 0.9994 - val_loss: 0.1180 - val_accuracy: 0.9736\n",
            "Epoch 9/10\n",
            "562/562 [==============================] - 48s 85ms/step - loss: 5.0120e-04 - accuracy: 0.9998 - val_loss: 0.1512 - val_accuracy: 0.9676\n",
            "Epoch 10/10\n",
            "562/562 [==============================] - 49s 87ms/step - loss: 4.0604e-04 - accuracy: 0.9999 - val_loss: 0.1387 - val_accuracy: 0.9739\n",
            "Test Accuracy: 0.9739\n",
            "Test Loss: 0.1387\n"
          ]
        },
        {
          "output_type": "display_data",
          "data": {
            "text/plain": [
              "<Figure size 640x480 with 1 Axes>"
            ],
            "image/png": "[encoded data removed]"
          },
          "metadata": {}
        },
        {
          "output_type": "display_data",
          "data": {
            "text/plain": [
              "<Figure size 640x480 with 1 Axes>"
            ],
            "image/png": "[encoded data removed]"
          },
          "metadata": {}
        }
      ]
    }
  ],
  "metadata": {
    "accelerator": "TPU",
    "colab": {
      "provenance": []
    },
    "kernelspec": {
      "display_name": "Python 3",
      "name": "python3"
    },
    "language_info": {
      "name": "python"
    }
  },
  "nbformat": 4,
  "nbformat_minor": 0
}